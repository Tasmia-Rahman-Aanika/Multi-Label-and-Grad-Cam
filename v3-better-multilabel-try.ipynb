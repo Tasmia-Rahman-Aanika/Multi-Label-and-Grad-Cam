{
 "cells": [
  {
   "cell_type": "code",
   "execution_count": 1,
   "id": "ac2a26f9",
   "metadata": {
    "execution": {
     "iopub.execute_input": "2024-02-27T06:02:48.736340Z",
     "iopub.status.busy": "2024-02-27T06:02:48.735634Z",
     "iopub.status.idle": "2024-02-27T06:03:05.215004Z",
     "shell.execute_reply": "2024-02-27T06:03:05.213676Z"
    },
    "papermill": {
     "duration": 16.494185,
     "end_time": "2024-02-27T06:03:05.217583",
     "exception": false,
     "start_time": "2024-02-27T06:02:48.723398",
     "status": "completed"
    },
    "tags": []
   },
   "outputs": [
    {
     "name": "stdout",
     "output_type": "stream",
     "text": [
      "Collecting torchxrayvision\r\n",
      "  Downloading torchxrayvision-1.2.2-py3-none-any.whl.metadata (18 kB)\r\n",
      "Requirement already satisfied: torch>=1 in /opt/conda/lib/python3.10/site-packages (from torchxrayvision) (2.1.2+cpu)\r\n",
      "Requirement already satisfied: torchvision>=0.5 in /opt/conda/lib/python3.10/site-packages (from torchxrayvision) (0.16.2+cpu)\r\n",
      "Requirement already satisfied: scikit-image>=0.16 in /opt/conda/lib/python3.10/site-packages (from torchxrayvision) (0.22.0)\r\n",
      "Requirement already satisfied: tqdm>=4 in /opt/conda/lib/python3.10/site-packages (from torchxrayvision) (4.66.1)\r\n",
      "Requirement already satisfied: numpy>=1 in /opt/conda/lib/python3.10/site-packages (from torchxrayvision) (1.24.4)\r\n",
      "Requirement already satisfied: pandas>=1 in /opt/conda/lib/python3.10/site-packages (from torchxrayvision) (2.2.0)\r\n",
      "Requirement already satisfied: requests>=1 in /opt/conda/lib/python3.10/site-packages (from torchxrayvision) (2.31.0)\r\n",
      "Requirement already satisfied: pillow>=5.3.0 in /opt/conda/lib/python3.10/site-packages (from torchxrayvision) (9.5.0)\r\n",
      "Requirement already satisfied: imageio in /opt/conda/lib/python3.10/site-packages (from torchxrayvision) (2.33.1)\r\n",
      "Requirement already satisfied: python-dateutil>=2.8.2 in /opt/conda/lib/python3.10/site-packages (from pandas>=1->torchxrayvision) (2.8.2)\r\n",
      "Requirement already satisfied: pytz>=2020.1 in /opt/conda/lib/python3.10/site-packages (from pandas>=1->torchxrayvision) (2023.3.post1)\r\n",
      "Requirement already satisfied: tzdata>=2022.7 in /opt/conda/lib/python3.10/site-packages (from pandas>=1->torchxrayvision) (2023.4)\r\n",
      "Requirement already satisfied: charset-normalizer<4,>=2 in /opt/conda/lib/python3.10/site-packages (from requests>=1->torchxrayvision) (3.3.2)\r\n",
      "Requirement already satisfied: idna<4,>=2.5 in /opt/conda/lib/python3.10/site-packages (from requests>=1->torchxrayvision) (3.6)\r\n",
      "Requirement already satisfied: urllib3<3,>=1.21.1 in /opt/conda/lib/python3.10/site-packages (from requests>=1->torchxrayvision) (1.26.18)\r\n",
      "Requirement already satisfied: certifi>=2017.4.17 in /opt/conda/lib/python3.10/site-packages (from requests>=1->torchxrayvision) (2023.11.17)\r\n",
      "Requirement already satisfied: scipy>=1.8 in /opt/conda/lib/python3.10/site-packages (from scikit-image>=0.16->torchxrayvision) (1.11.4)\r\n",
      "Requirement already satisfied: networkx>=2.8 in /opt/conda/lib/python3.10/site-packages (from scikit-image>=0.16->torchxrayvision) (3.2.1)\r\n",
      "Requirement already satisfied: tifffile>=2022.8.12 in /opt/conda/lib/python3.10/site-packages (from scikit-image>=0.16->torchxrayvision) (2023.12.9)\r\n",
      "Requirement already satisfied: packaging>=21 in /opt/conda/lib/python3.10/site-packages (from scikit-image>=0.16->torchxrayvision) (21.3)\r\n",
      "Requirement already satisfied: lazy_loader>=0.3 in /opt/conda/lib/python3.10/site-packages (from scikit-image>=0.16->torchxrayvision) (0.3)\r\n",
      "Requirement already satisfied: filelock in /opt/conda/lib/python3.10/site-packages (from torch>=1->torchxrayvision) (3.13.1)\r\n",
      "Requirement already satisfied: typing-extensions in /opt/conda/lib/python3.10/site-packages (from torch>=1->torchxrayvision) (4.9.0)\r\n",
      "Requirement already satisfied: sympy in /opt/conda/lib/python3.10/site-packages (from torch>=1->torchxrayvision) (1.12)\r\n",
      "Requirement already satisfied: jinja2 in /opt/conda/lib/python3.10/site-packages (from torch>=1->torchxrayvision) (3.1.2)\r\n",
      "Requirement already satisfied: fsspec in /opt/conda/lib/python3.10/site-packages (from torch>=1->torchxrayvision) (2023.12.2)\r\n",
      "Requirement already satisfied: pyparsing!=3.0.5,>=2.0.2 in /opt/conda/lib/python3.10/site-packages (from packaging>=21->scikit-image>=0.16->torchxrayvision) (3.1.1)\r\n",
      "Requirement already satisfied: six>=1.5 in /opt/conda/lib/python3.10/site-packages (from python-dateutil>=2.8.2->pandas>=1->torchxrayvision) (1.16.0)\r\n",
      "Requirement already satisfied: MarkupSafe>=2.0 in /opt/conda/lib/python3.10/site-packages (from jinja2->torch>=1->torchxrayvision) (2.1.3)\r\n",
      "Requirement already satisfied: mpmath>=0.19 in /opt/conda/lib/python3.10/site-packages (from sympy->torch>=1->torchxrayvision) (1.3.0)\r\n",
      "Downloading torchxrayvision-1.2.2-py3-none-any.whl (29.0 MB)\r\n",
      "\u001b[2K   \u001b[90m━━━━━━━━━━━━━━━━━━━━━━━━━━━━━━━━━━━━━━━━\u001b[0m \u001b[32m29.0/29.0 MB\u001b[0m \u001b[31m29.0 MB/s\u001b[0m eta \u001b[36m0:00:00\u001b[0m\r\n",
      "\u001b[?25hInstalling collected packages: torchxrayvision\r\n",
      "Successfully installed torchxrayvision-1.2.2\r\n"
     ]
    }
   ],
   "source": [
    "!pip install torchxrayvision"
   ]
  },
  {
   "cell_type": "markdown",
   "id": "2a30f018",
   "metadata": {
    "papermill": {
     "duration": 0.012738,
     "end_time": "2024-02-27T06:03:05.243741",
     "exception": false,
     "start_time": "2024-02-27T06:03:05.231003",
     "status": "completed"
    },
    "tags": []
   },
   "source": [
    "# Pre-Process Image"
   ]
  },
  {
   "cell_type": "code",
   "execution_count": 2,
   "id": "43ccab46",
   "metadata": {
    "execution": {
     "iopub.execute_input": "2024-02-27T06:03:05.272227Z",
     "iopub.status.busy": "2024-02-27T06:03:05.271777Z",
     "iopub.status.idle": "2024-02-27T06:03:05.533997Z",
     "shell.execute_reply": "2024-02-27T06:03:05.532757Z"
    },
    "papermill": {
     "duration": 0.279771,
     "end_time": "2024-02-27T06:03:05.536478",
     "exception": false,
     "start_time": "2024-02-27T06:03:05.256707",
     "status": "completed"
    },
    "tags": []
   },
   "outputs": [
    {
     "name": "stdout",
     "output_type": "stream",
     "text": [
      "(320, 390, 3)\n"
     ]
    }
   ],
   "source": [
    "import cv2\n",
    "import matplotlib.pyplot as plt\n",
    "\n",
    "I = cv2.imread(\"/kaggle/input/chexpert/train/patient00007/study1/view1_frontal.jpg\")\n",
    "print(I.shape)"
   ]
  },
  {
   "cell_type": "code",
   "execution_count": 3,
   "id": "6da753f9",
   "metadata": {
    "execution": {
     "iopub.execute_input": "2024-02-27T06:03:05.566840Z",
     "iopub.status.busy": "2024-02-27T06:03:05.566422Z",
     "iopub.status.idle": "2024-02-27T06:03:14.262720Z",
     "shell.execute_reply": "2024-02-27T06:03:14.261808Z"
    },
    "papermill": {
     "duration": 8.713539,
     "end_time": "2024-02-27T06:03:14.264659",
     "exception": false,
     "start_time": "2024-02-27T06:03:05.551120",
     "status": "completed"
    },
    "tags": []
   },
   "outputs": [
    {
     "name": "stdout",
     "output_type": "stream",
     "text": [
      "(320, 390, 3)\n",
      "Setting XRayResizer engine to cv2 could increase performance.\n"
     ]
    }
   ],
   "source": [
    "import torchxrayvision as xrv\n",
    "import skimage, torch, torchvision, cv2\n",
    "import numpy as np\n",
    "\n",
    "# Prepare the image:\n",
    "img = cv2.imread(\"/kaggle/input/chexpert/train/patient00024/study1/view1_frontal.jpg\") #changed skimage to cv2 as skimage was loading greyscale image\n",
    "print(img.shape)\n",
    "\n",
    "img = xrv.datasets.normalize(img, 255) # convert 8-bit image to [-1024, 1024] range\n",
    "img = img.mean(2)[None, ...] # Make single color channel\n",
    "\n",
    "transform = torchvision.transforms.Compose([xrv.datasets.XRayCenterCrop(),xrv.datasets.XRayResizer(224)])\n",
    "\n",
    "img = transform(img)\n",
    "img = torch.from_numpy(img)"
   ]
  },
  {
   "cell_type": "markdown",
   "id": "3019b2aa",
   "metadata": {
    "papermill": {
     "duration": 0.01291,
     "end_time": "2024-02-27T06:03:14.290851",
     "exception": false,
     "start_time": "2024-02-27T06:03:14.277941",
     "status": "completed"
    },
    "tags": []
   },
   "source": [
    "# Load Model\n",
    "\n",
    "18 Labels total , but here only 11 exists. So need to get rid of excess values"
   ]
  },
  {
   "cell_type": "code",
   "execution_count": 4,
   "id": "7d9cef06",
   "metadata": {
    "execution": {
     "iopub.execute_input": "2024-02-27T06:03:14.319965Z",
     "iopub.status.busy": "2024-02-27T06:03:14.318763Z",
     "iopub.status.idle": "2024-02-27T06:03:15.644198Z",
     "shell.execute_reply": "2024-02-27T06:03:15.643264Z"
    },
    "papermill": {
     "duration": 1.342415,
     "end_time": "2024-02-27T06:03:15.646547",
     "exception": false,
     "start_time": "2024-02-27T06:03:14.304132",
     "status": "completed"
    },
    "tags": []
   },
   "outputs": [
    {
     "name": "stdout",
     "output_type": "stream",
     "text": [
      "Downloading weights...\n",
      "If this fails you can run `wget https://github.com/mlmed/torchxrayvision/releases/download/v1/chex-densenet121-d121-tw-lr001-rot45-tr15-sc15-seed0-best.pt -O /root/.torchxrayvision/models_data/chex-densenet121-d121-tw-lr001-rot45-tr15-sc15-seed0-best.pt`\n",
      "[██████████████████████████████████████████████████]\n"
     ]
    }
   ],
   "source": [
    "model = xrv.models.DenseNet(weights=\"densenet121-res224-chex\")\n",
    "outputs = model(img[None,...]) # or model.features(img[None,...])"
   ]
  },
  {
   "cell_type": "code",
   "execution_count": 5,
   "id": "7bce8637",
   "metadata": {
    "execution": {
     "iopub.execute_input": "2024-02-27T06:03:15.679418Z",
     "iopub.status.busy": "2024-02-27T06:03:15.678987Z",
     "iopub.status.idle": "2024-02-27T06:03:15.686571Z",
     "shell.execute_reply": "2024-02-27T06:03:15.685525Z"
    },
    "papermill": {
     "duration": 0.026434,
     "end_time": "2024-02-27T06:03:15.688646",
     "exception": false,
     "start_time": "2024-02-27T06:03:15.662212",
     "status": "completed"
    },
    "tags": []
   },
   "outputs": [
    {
     "data": {
      "text/plain": [
       "['Atelectasis',\n",
       " 'Consolidation',\n",
       " '',\n",
       " 'Pneumothorax',\n",
       " 'Edema',\n",
       " '',\n",
       " '',\n",
       " 'Effusion',\n",
       " 'Pneumonia',\n",
       " '',\n",
       " 'Cardiomegaly',\n",
       " '',\n",
       " '',\n",
       " '',\n",
       " 'Lung Lesion',\n",
       " 'Fracture',\n",
       " 'Lung Opacity',\n",
       " 'Enlarged Cardiomediastinum']"
      ]
     },
     "execution_count": 5,
     "metadata": {},
     "output_type": "execute_result"
    }
   ],
   "source": [
    "model.pathologies"
   ]
  },
  {
   "cell_type": "code",
   "execution_count": 6,
   "id": "5a89ca2d",
   "metadata": {
    "execution": {
     "iopub.execute_input": "2024-02-27T06:03:15.721776Z",
     "iopub.status.busy": "2024-02-27T06:03:15.720727Z",
     "iopub.status.idle": "2024-02-27T06:03:15.735537Z",
     "shell.execute_reply": "2024-02-27T06:03:15.734335Z"
    },
    "papermill": {
     "duration": 0.034012,
     "end_time": "2024-02-27T06:03:15.737939",
     "exception": false,
     "start_time": "2024-02-27T06:03:15.703927",
     "status": "completed"
    },
    "tags": []
   },
   "outputs": [
    {
     "name": "stdout",
     "output_type": "stream",
     "text": [
      "tensor([[0.7603, 0.5345, 0.5000, 0.1325, 0.8471, 0.5000, 0.5000, 0.6517, 0.5424,\n",
      "         0.5000, 0.8696, 0.5000, 0.5000, 0.5000, 0.2810, 0.3818, 0.7698, 0.7517]],\n",
      "       grad_fn=<IndexPutBackward0>)\n"
     ]
    }
   ],
   "source": [
    "print(outputs)"
   ]
  },
  {
   "cell_type": "code",
   "execution_count": 7,
   "id": "69b384dc",
   "metadata": {
    "execution": {
     "iopub.execute_input": "2024-02-27T06:03:15.770634Z",
     "iopub.status.busy": "2024-02-27T06:03:15.770221Z",
     "iopub.status.idle": "2024-02-27T06:03:15.777917Z",
     "shell.execute_reply": "2024-02-27T06:03:15.776976Z"
    },
    "papermill": {
     "duration": 0.026587,
     "end_time": "2024-02-27T06:03:15.780060",
     "exception": false,
     "start_time": "2024-02-27T06:03:15.753473",
     "status": "completed"
    },
    "tags": []
   },
   "outputs": [
    {
     "data": {
      "text/plain": [
       "array([[0.76030165, 0.53449607, 0.5       , 0.13253503, 0.84710014,\n",
       "        0.5       , 0.5       , 0.6516502 , 0.5424422 , 0.5       ,\n",
       "        0.8695963 , 0.5       , 0.5       , 0.5       , 0.2809821 ,\n",
       "        0.38183057, 0.76981044, 0.7517107 ]], dtype=float32)"
      ]
     },
     "execution_count": 7,
     "metadata": {},
     "output_type": "execute_result"
    }
   ],
   "source": [
    "import torch\n",
    "\n",
    "# Assuming 'my_tensor' is your PyTorch tensor\n",
    "array = outputs.detach().numpy()\n",
    "\n",
    "array"
   ]
  },
  {
   "cell_type": "markdown",
   "id": "3ff47d66",
   "metadata": {
    "papermill": {
     "duration": 0.015415,
     "end_time": "2024-02-27T06:03:15.812981",
     "exception": false,
     "start_time": "2024-02-27T06:03:15.797566",
     "status": "completed"
    },
    "tags": []
   },
   "source": [
    "# Print Results"
   ]
  },
  {
   "cell_type": "code",
   "execution_count": 8,
   "id": "da922a74",
   "metadata": {
    "execution": {
     "iopub.execute_input": "2024-02-27T06:03:15.845751Z",
     "iopub.status.busy": "2024-02-27T06:03:15.845031Z",
     "iopub.status.idle": "2024-02-27T06:03:15.854132Z",
     "shell.execute_reply": "2024-02-27T06:03:15.852721Z"
    },
    "papermill": {
     "duration": 0.028117,
     "end_time": "2024-02-27T06:03:15.856564",
     "exception": false,
     "start_time": "2024-02-27T06:03:15.828447",
     "status": "completed"
    },
    "tags": []
   },
   "outputs": [
    {
     "data": {
      "text/plain": [
       "{'Atelectasis': 0.76030165,\n",
       " 'Consolidation': 0.53449607,\n",
       " 'Pneumothorax': 0.13253503,\n",
       " 'Edema': 0.84710014,\n",
       " 'Effusion': 0.6516502,\n",
       " 'Pneumonia': 0.5424422,\n",
       " 'Cardiomegaly': 0.8695963,\n",
       " 'Lung Lesion': 0.2809821,\n",
       " 'Fracture': 0.38183057,\n",
       " 'Lung Opacity': 0.76981044,\n",
       " 'Enlarged Cardiomediastinum': 0.7517107}"
      ]
     },
     "execution_count": 8,
     "metadata": {},
     "output_type": "execute_result"
    }
   ],
   "source": [
    "out = dict(zip(model.pathologies,outputs[0].detach().numpy()))\n",
    "out.pop('')\n",
    "\n",
    "out"
   ]
  },
  {
   "cell_type": "code",
   "execution_count": 9,
   "id": "3d5b161b",
   "metadata": {
    "execution": {
     "iopub.execute_input": "2024-02-27T06:03:15.889578Z",
     "iopub.status.busy": "2024-02-27T06:03:15.888847Z",
     "iopub.status.idle": "2024-02-27T06:03:15.895953Z",
     "shell.execute_reply": "2024-02-27T06:03:15.895089Z"
    },
    "papermill": {
     "duration": 0.025948,
     "end_time": "2024-02-27T06:03:15.897950",
     "exception": false,
     "start_time": "2024-02-27T06:03:15.872002",
     "status": "completed"
    },
    "tags": []
   },
   "outputs": [
    {
     "data": {
      "text/plain": [
       "[0.7603016495704651,\n",
       " 0.5344960689544678,\n",
       " 0.13253502547740936,\n",
       " 0.8471001386642456,\n",
       " 0.6516501903533936,\n",
       " 0.5424422025680542,\n",
       " 0.8695963025093079,\n",
       " 0.280982106924057,\n",
       " 0.3818305730819702,\n",
       " 0.7698104381561279,\n",
       " 0.7517107129096985]"
      ]
     },
     "execution_count": 9,
     "metadata": {},
     "output_type": "execute_result"
    }
   ],
   "source": [
    "import re\n",
    "\n",
    "# Regular expression to match a number after a colon\n",
    "pattern = r':\\s*(\\d+(\\.\\d+)?)'\n",
    "\n",
    "# Extract the second element after the colon for each value in the dictionary\n",
    "out_arr = [float(re.search(pattern, str(v)).group(1)) if re.search(pattern, str(v)) else float(v) for v in out.values()]\n",
    "\n",
    "out_arr"
   ]
  },
  {
   "cell_type": "code",
   "execution_count": 10,
   "id": "defa6f45",
   "metadata": {
    "execution": {
     "iopub.execute_input": "2024-02-27T06:03:15.931499Z",
     "iopub.status.busy": "2024-02-27T06:03:15.931104Z",
     "iopub.status.idle": "2024-02-27T06:03:15.937053Z",
     "shell.execute_reply": "2024-02-27T06:03:15.936316Z"
    },
    "papermill": {
     "duration": 0.025429,
     "end_time": "2024-02-27T06:03:15.939089",
     "exception": false,
     "start_time": "2024-02-27T06:03:15.913660",
     "status": "completed"
    },
    "tags": []
   },
   "outputs": [
    {
     "data": {
      "text/plain": [
       "array([1, 1, 0, 1, 1, 1, 1, 0, 0, 1, 1])"
      ]
     },
     "execution_count": 10,
     "metadata": {},
     "output_type": "execute_result"
    }
   ],
   "source": [
    "out_binary = [(0 if x < 0.5 else 1) for x in out_arr]\n",
    "out_binary = np.array(out_binary)\n",
    "\n",
    "out_binary"
   ]
  },
  {
   "cell_type": "code",
   "execution_count": 11,
   "id": "e33832d2",
   "metadata": {
    "execution": {
     "iopub.execute_input": "2024-02-27T06:03:15.971965Z",
     "iopub.status.busy": "2024-02-27T06:03:15.971564Z",
     "iopub.status.idle": "2024-02-27T06:03:15.987569Z",
     "shell.execute_reply": "2024-02-27T06:03:15.986236Z"
    },
    "papermill": {
     "duration": 0.034744,
     "end_time": "2024-02-27T06:03:15.989526",
     "exception": false,
     "start_time": "2024-02-27T06:03:15.954782",
     "status": "completed"
    },
    "tags": []
   },
   "outputs": [
    {
     "name": "stdout",
     "output_type": "stream",
     "text": [
      "                         Label     Value\n",
      "0                  Atelectasis  0.760302\n",
      "1                Consolidation  0.534496\n",
      "2                 Pneumothorax  0.132535\n",
      "3                        Edema  0.847100\n",
      "4                     Effusion  0.651650\n",
      "5                    Pneumonia  0.542442\n",
      "6                 Cardiomegaly  0.869596\n",
      "7                  Lung Lesion  0.280982\n",
      "8                     Fracture  0.381831\n",
      "9                 Lung Opacity  0.769810\n",
      "10  Enlarged Cardiomediastinum  0.751711\n"
     ]
    }
   ],
   "source": [
    "import pandas as pd\n",
    "\n",
    "df = pd.DataFrame(out, index=[0])\n",
    "\n",
    "# Transpose the DataFrame to have labels as columns and values as rows\n",
    "df = df.T.reset_index()\n",
    "\n",
    "# Rename columns\n",
    "df.columns = ['Label', 'Value']\n",
    "\n",
    "print(df)"
   ]
  },
  {
   "cell_type": "markdown",
   "id": "aa53c23a",
   "metadata": {
    "papermill": {
     "duration": 0.01545,
     "end_time": "2024-02-27T06:03:16.021231",
     "exception": false,
     "start_time": "2024-02-27T06:03:16.005781",
     "status": "completed"
    },
    "tags": []
   },
   "source": [
    "# Chexpert Data Extraction"
   ]
  },
  {
   "cell_type": "code",
   "execution_count": 12,
   "id": "2146aeac",
   "metadata": {
    "execution": {
     "iopub.execute_input": "2024-02-27T06:03:16.055852Z",
     "iopub.status.busy": "2024-02-27T06:03:16.054642Z",
     "iopub.status.idle": "2024-02-27T06:03:16.059660Z",
     "shell.execute_reply": "2024-02-27T06:03:16.058651Z"
    },
    "papermill": {
     "duration": 0.024767,
     "end_time": "2024-02-27T06:03:16.061806",
     "exception": false,
     "start_time": "2024-02-27T06:03:16.037039",
     "status": "completed"
    },
    "tags": []
   },
   "outputs": [],
   "source": [
    "import pandas as pd"
   ]
  },
  {
   "cell_type": "code",
   "execution_count": 13,
   "id": "8636160c",
   "metadata": {
    "execution": {
     "iopub.execute_input": "2024-02-27T06:03:16.095852Z",
     "iopub.status.busy": "2024-02-27T06:03:16.095453Z",
     "iopub.status.idle": "2024-02-27T06:03:16.169651Z",
     "shell.execute_reply": "2024-02-27T06:03:16.168472Z"
    },
    "papermill": {
     "duration": 0.093756,
     "end_time": "2024-02-27T06:03:16.171840",
     "exception": false,
     "start_time": "2024-02-27T06:03:16.078084",
     "status": "completed"
    },
    "tags": []
   },
   "outputs": [
    {
     "data": {
      "text/html": [
       "<div>\n",
       "<style scoped>\n",
       "    .dataframe tbody tr th:only-of-type {\n",
       "        vertical-align: middle;\n",
       "    }\n",
       "\n",
       "    .dataframe tbody tr th {\n",
       "        vertical-align: top;\n",
       "    }\n",
       "\n",
       "    .dataframe thead th {\n",
       "        text-align: right;\n",
       "    }\n",
       "</style>\n",
       "<table border=\"1\" class=\"dataframe\">\n",
       "  <thead>\n",
       "    <tr style=\"text-align: right;\">\n",
       "      <th></th>\n",
       "      <th>Path</th>\n",
       "      <th>Sex</th>\n",
       "      <th>Age</th>\n",
       "      <th>Frontal/Lateral</th>\n",
       "      <th>AP/PA</th>\n",
       "      <th>No Finding</th>\n",
       "      <th>Enlarged Cardiomediastinum</th>\n",
       "      <th>Cardiomegaly</th>\n",
       "      <th>Lung Opacity</th>\n",
       "      <th>Lung Lesion</th>\n",
       "      <th>Edema</th>\n",
       "      <th>Consolidation</th>\n",
       "      <th>Pneumonia</th>\n",
       "      <th>Atelectasis</th>\n",
       "      <th>Pneumothorax</th>\n",
       "      <th>Pleural Effusion</th>\n",
       "      <th>Pleural Other</th>\n",
       "      <th>Fracture</th>\n",
       "      <th>Support Devices</th>\n",
       "    </tr>\n",
       "  </thead>\n",
       "  <tbody>\n",
       "    <tr>\n",
       "      <th>0</th>\n",
       "      <td>/kaggle/input/chexpert/valid/patient64541/stud...</td>\n",
       "      <td>Male</td>\n",
       "      <td>73</td>\n",
       "      <td>Frontal</td>\n",
       "      <td>AP</td>\n",
       "      <td>0.0</td>\n",
       "      <td>1.0</td>\n",
       "      <td>1.0</td>\n",
       "      <td>1.0</td>\n",
       "      <td>0.0</td>\n",
       "      <td>0.0</td>\n",
       "      <td>0.0</td>\n",
       "      <td>0.0</td>\n",
       "      <td>0.0</td>\n",
       "      <td>0.0</td>\n",
       "      <td>0.0</td>\n",
       "      <td>0.0</td>\n",
       "      <td>0.0</td>\n",
       "      <td>0.0</td>\n",
       "    </tr>\n",
       "    <tr>\n",
       "      <th>1</th>\n",
       "      <td>/kaggle/input/chexpert/valid/patient64542/stud...</td>\n",
       "      <td>Male</td>\n",
       "      <td>70</td>\n",
       "      <td>Frontal</td>\n",
       "      <td>PA</td>\n",
       "      <td>0.0</td>\n",
       "      <td>0.0</td>\n",
       "      <td>0.0</td>\n",
       "      <td>0.0</td>\n",
       "      <td>0.0</td>\n",
       "      <td>0.0</td>\n",
       "      <td>0.0</td>\n",
       "      <td>0.0</td>\n",
       "      <td>0.0</td>\n",
       "      <td>0.0</td>\n",
       "      <td>0.0</td>\n",
       "      <td>0.0</td>\n",
       "      <td>0.0</td>\n",
       "      <td>1.0</td>\n",
       "    </tr>\n",
       "    <tr>\n",
       "      <th>2</th>\n",
       "      <td>/kaggle/input/chexpert/valid/patient64542/stud...</td>\n",
       "      <td>Male</td>\n",
       "      <td>70</td>\n",
       "      <td>Lateral</td>\n",
       "      <td>0</td>\n",
       "      <td>0.0</td>\n",
       "      <td>0.0</td>\n",
       "      <td>0.0</td>\n",
       "      <td>0.0</td>\n",
       "      <td>0.0</td>\n",
       "      <td>0.0</td>\n",
       "      <td>0.0</td>\n",
       "      <td>0.0</td>\n",
       "      <td>0.0</td>\n",
       "      <td>0.0</td>\n",
       "      <td>0.0</td>\n",
       "      <td>0.0</td>\n",
       "      <td>0.0</td>\n",
       "      <td>1.0</td>\n",
       "    </tr>\n",
       "    <tr>\n",
       "      <th>3</th>\n",
       "      <td>/kaggle/input/chexpert/valid/patient64543/stud...</td>\n",
       "      <td>Male</td>\n",
       "      <td>85</td>\n",
       "      <td>Frontal</td>\n",
       "      <td>AP</td>\n",
       "      <td>0.0</td>\n",
       "      <td>1.0</td>\n",
       "      <td>0.0</td>\n",
       "      <td>1.0</td>\n",
       "      <td>0.0</td>\n",
       "      <td>1.0</td>\n",
       "      <td>0.0</td>\n",
       "      <td>0.0</td>\n",
       "      <td>0.0</td>\n",
       "      <td>0.0</td>\n",
       "      <td>0.0</td>\n",
       "      <td>0.0</td>\n",
       "      <td>0.0</td>\n",
       "      <td>0.0</td>\n",
       "    </tr>\n",
       "    <tr>\n",
       "      <th>4</th>\n",
       "      <td>/kaggle/input/chexpert/valid/patient64544/stud...</td>\n",
       "      <td>Female</td>\n",
       "      <td>42</td>\n",
       "      <td>Frontal</td>\n",
       "      <td>AP</td>\n",
       "      <td>1.0</td>\n",
       "      <td>0.0</td>\n",
       "      <td>0.0</td>\n",
       "      <td>0.0</td>\n",
       "      <td>0.0</td>\n",
       "      <td>0.0</td>\n",
       "      <td>0.0</td>\n",
       "      <td>0.0</td>\n",
       "      <td>0.0</td>\n",
       "      <td>0.0</td>\n",
       "      <td>0.0</td>\n",
       "      <td>0.0</td>\n",
       "      <td>0.0</td>\n",
       "      <td>0.0</td>\n",
       "    </tr>\n",
       "    <tr>\n",
       "      <th>...</th>\n",
       "      <td>...</td>\n",
       "      <td>...</td>\n",
       "      <td>...</td>\n",
       "      <td>...</td>\n",
       "      <td>...</td>\n",
       "      <td>...</td>\n",
       "      <td>...</td>\n",
       "      <td>...</td>\n",
       "      <td>...</td>\n",
       "      <td>...</td>\n",
       "      <td>...</td>\n",
       "      <td>...</td>\n",
       "      <td>...</td>\n",
       "      <td>...</td>\n",
       "      <td>...</td>\n",
       "      <td>...</td>\n",
       "      <td>...</td>\n",
       "      <td>...</td>\n",
       "      <td>...</td>\n",
       "    </tr>\n",
       "    <tr>\n",
       "      <th>229</th>\n",
       "      <td>/kaggle/input/chexpert/valid/patient64736/stud...</td>\n",
       "      <td>Female</td>\n",
       "      <td>57</td>\n",
       "      <td>Frontal</td>\n",
       "      <td>AP</td>\n",
       "      <td>0.0</td>\n",
       "      <td>0.0</td>\n",
       "      <td>0.0</td>\n",
       "      <td>0.0</td>\n",
       "      <td>0.0</td>\n",
       "      <td>0.0</td>\n",
       "      <td>0.0</td>\n",
       "      <td>0.0</td>\n",
       "      <td>0.0</td>\n",
       "      <td>0.0</td>\n",
       "      <td>0.0</td>\n",
       "      <td>0.0</td>\n",
       "      <td>0.0</td>\n",
       "      <td>1.0</td>\n",
       "    </tr>\n",
       "    <tr>\n",
       "      <th>230</th>\n",
       "      <td>/kaggle/input/chexpert/valid/patient64737/stud...</td>\n",
       "      <td>Male</td>\n",
       "      <td>65</td>\n",
       "      <td>Frontal</td>\n",
       "      <td>AP</td>\n",
       "      <td>0.0</td>\n",
       "      <td>0.0</td>\n",
       "      <td>0.0</td>\n",
       "      <td>0.0</td>\n",
       "      <td>0.0</td>\n",
       "      <td>0.0</td>\n",
       "      <td>0.0</td>\n",
       "      <td>0.0</td>\n",
       "      <td>0.0</td>\n",
       "      <td>0.0</td>\n",
       "      <td>0.0</td>\n",
       "      <td>0.0</td>\n",
       "      <td>0.0</td>\n",
       "      <td>1.0</td>\n",
       "    </tr>\n",
       "    <tr>\n",
       "      <th>231</th>\n",
       "      <td>/kaggle/input/chexpert/valid/patient64738/stud...</td>\n",
       "      <td>Male</td>\n",
       "      <td>71</td>\n",
       "      <td>Frontal</td>\n",
       "      <td>AP</td>\n",
       "      <td>0.0</td>\n",
       "      <td>1.0</td>\n",
       "      <td>1.0</td>\n",
       "      <td>1.0</td>\n",
       "      <td>0.0</td>\n",
       "      <td>1.0</td>\n",
       "      <td>0.0</td>\n",
       "      <td>0.0</td>\n",
       "      <td>0.0</td>\n",
       "      <td>0.0</td>\n",
       "      <td>0.0</td>\n",
       "      <td>0.0</td>\n",
       "      <td>0.0</td>\n",
       "      <td>1.0</td>\n",
       "    </tr>\n",
       "    <tr>\n",
       "      <th>232</th>\n",
       "      <td>/kaggle/input/chexpert/valid/patient64739/stud...</td>\n",
       "      <td>Female</td>\n",
       "      <td>45</td>\n",
       "      <td>Frontal</td>\n",
       "      <td>AP</td>\n",
       "      <td>0.0</td>\n",
       "      <td>1.0</td>\n",
       "      <td>0.0</td>\n",
       "      <td>0.0</td>\n",
       "      <td>0.0</td>\n",
       "      <td>0.0</td>\n",
       "      <td>0.0</td>\n",
       "      <td>0.0</td>\n",
       "      <td>0.0</td>\n",
       "      <td>0.0</td>\n",
       "      <td>0.0</td>\n",
       "      <td>0.0</td>\n",
       "      <td>0.0</td>\n",
       "      <td>0.0</td>\n",
       "    </tr>\n",
       "    <tr>\n",
       "      <th>233</th>\n",
       "      <td>/kaggle/input/chexpert/valid/patient64740/stud...</td>\n",
       "      <td>Male</td>\n",
       "      <td>90</td>\n",
       "      <td>Frontal</td>\n",
       "      <td>AP</td>\n",
       "      <td>0.0</td>\n",
       "      <td>1.0</td>\n",
       "      <td>0.0</td>\n",
       "      <td>1.0</td>\n",
       "      <td>0.0</td>\n",
       "      <td>0.0</td>\n",
       "      <td>0.0</td>\n",
       "      <td>0.0</td>\n",
       "      <td>1.0</td>\n",
       "      <td>0.0</td>\n",
       "      <td>1.0</td>\n",
       "      <td>0.0</td>\n",
       "      <td>0.0</td>\n",
       "      <td>0.0</td>\n",
       "    </tr>\n",
       "  </tbody>\n",
       "</table>\n",
       "<p>234 rows × 19 columns</p>\n",
       "</div>"
      ],
      "text/plain": [
       "                                                  Path     Sex  Age  \\\n",
       "0    /kaggle/input/chexpert/valid/patient64541/stud...    Male   73   \n",
       "1    /kaggle/input/chexpert/valid/patient64542/stud...    Male   70   \n",
       "2    /kaggle/input/chexpert/valid/patient64542/stud...    Male   70   \n",
       "3    /kaggle/input/chexpert/valid/patient64543/stud...    Male   85   \n",
       "4    /kaggle/input/chexpert/valid/patient64544/stud...  Female   42   \n",
       "..                                                 ...     ...  ...   \n",
       "229  /kaggle/input/chexpert/valid/patient64736/stud...  Female   57   \n",
       "230  /kaggle/input/chexpert/valid/patient64737/stud...    Male   65   \n",
       "231  /kaggle/input/chexpert/valid/patient64738/stud...    Male   71   \n",
       "232  /kaggle/input/chexpert/valid/patient64739/stud...  Female   45   \n",
       "233  /kaggle/input/chexpert/valid/patient64740/stud...    Male   90   \n",
       "\n",
       "    Frontal/Lateral AP/PA  No Finding  Enlarged Cardiomediastinum  \\\n",
       "0           Frontal    AP         0.0                         1.0   \n",
       "1           Frontal    PA         0.0                         0.0   \n",
       "2           Lateral     0         0.0                         0.0   \n",
       "3           Frontal    AP         0.0                         1.0   \n",
       "4           Frontal    AP         1.0                         0.0   \n",
       "..              ...   ...         ...                         ...   \n",
       "229         Frontal    AP         0.0                         0.0   \n",
       "230         Frontal    AP         0.0                         0.0   \n",
       "231         Frontal    AP         0.0                         1.0   \n",
       "232         Frontal    AP         0.0                         1.0   \n",
       "233         Frontal    AP         0.0                         1.0   \n",
       "\n",
       "     Cardiomegaly  Lung Opacity  Lung Lesion  Edema  Consolidation  Pneumonia  \\\n",
       "0             1.0           1.0          0.0    0.0            0.0        0.0   \n",
       "1             0.0           0.0          0.0    0.0            0.0        0.0   \n",
       "2             0.0           0.0          0.0    0.0            0.0        0.0   \n",
       "3             0.0           1.0          0.0    1.0            0.0        0.0   \n",
       "4             0.0           0.0          0.0    0.0            0.0        0.0   \n",
       "..            ...           ...          ...    ...            ...        ...   \n",
       "229           0.0           0.0          0.0    0.0            0.0        0.0   \n",
       "230           0.0           0.0          0.0    0.0            0.0        0.0   \n",
       "231           1.0           1.0          0.0    1.0            0.0        0.0   \n",
       "232           0.0           0.0          0.0    0.0            0.0        0.0   \n",
       "233           0.0           1.0          0.0    0.0            0.0        0.0   \n",
       "\n",
       "     Atelectasis  Pneumothorax  Pleural Effusion  Pleural Other  Fracture  \\\n",
       "0            0.0           0.0               0.0            0.0       0.0   \n",
       "1            0.0           0.0               0.0            0.0       0.0   \n",
       "2            0.0           0.0               0.0            0.0       0.0   \n",
       "3            0.0           0.0               0.0            0.0       0.0   \n",
       "4            0.0           0.0               0.0            0.0       0.0   \n",
       "..           ...           ...               ...            ...       ...   \n",
       "229          0.0           0.0               0.0            0.0       0.0   \n",
       "230          0.0           0.0               0.0            0.0       0.0   \n",
       "231          0.0           0.0               0.0            0.0       0.0   \n",
       "232          0.0           0.0               0.0            0.0       0.0   \n",
       "233          1.0           0.0               1.0            0.0       0.0   \n",
       "\n",
       "     Support Devices  \n",
       "0                0.0  \n",
       "1                1.0  \n",
       "2                1.0  \n",
       "3                0.0  \n",
       "4                0.0  \n",
       "..               ...  \n",
       "229              1.0  \n",
       "230              1.0  \n",
       "231              1.0  \n",
       "232              0.0  \n",
       "233              0.0  \n",
       "\n",
       "[234 rows x 19 columns]"
      ]
     },
     "execution_count": 13,
     "metadata": {},
     "output_type": "execute_result"
    }
   ],
   "source": [
    "test = pd.read_csv('/kaggle/input/chexpert/valid.csv')\n",
    "\n",
    "test = test.replace('CheXpert-v1.0-small/','/kaggle/input/chexpert/', regex=True)\n",
    "\n",
    "test = test.fillna(0)\n",
    "test['No Finding'] = test['No Finding'].replace({-1: 1}, inplace=False)\n",
    "test['Cardiomegaly'] = test['Cardiomegaly'].replace({-1: 1}, inplace=False)\n",
    "test['Enlarged Cardiomediastinum'] = test['Enlarged Cardiomediastinum'].replace({-1: 1}, inplace=False)\n",
    "test['Lung Opacity'] = test['Lung Opacity'].replace({-1: 1}, inplace=False)\n",
    "test['Lung Lesion'] = test['Lung Lesion'].replace({-1: 1}, inplace=False)\n",
    "test['Edema'] = test['Edema'].replace({-1: 1}, inplace=False)\n",
    "test['Pneumonia'] = test['Pneumonia'].replace({-1: 1}, inplace=False)\n",
    "test['Pneumothorax'] = test['Pneumothorax'].replace({-1: 1}, inplace=False)\n",
    "test['Atelectasis'] = test['Atelectasis'].replace({-1: 1}, inplace=False)\n",
    "test['Consolidation'] = test['Consolidation'].replace({-1: 1}, inplace=False)\n",
    "test['Pleural Effusion'] = test['Pleural Effusion'].replace({-1: 1}, inplace=False)\n",
    "test['Pleural Other'] = test['Pleural Other'].replace({-1: 1}, inplace=False)\n",
    "test['Fracture'] = test['Fracture'].replace({-1: 1}, inplace=False)\n",
    "test['Support Devices'] = test['Support Devices'].replace({-1: 1}, inplace=False)\n",
    "\n",
    "test"
   ]
  },
  {
   "cell_type": "code",
   "execution_count": 14,
   "id": "da222da4",
   "metadata": {
    "execution": {
     "iopub.execute_input": "2024-02-27T06:03:16.206511Z",
     "iopub.status.busy": "2024-02-27T06:03:16.206060Z",
     "iopub.status.idle": "2024-02-27T06:03:16.234593Z",
     "shell.execute_reply": "2024-02-27T06:03:16.233531Z"
    },
    "papermill": {
     "duration": 0.048373,
     "end_time": "2024-02-27T06:03:16.236802",
     "exception": false,
     "start_time": "2024-02-27T06:03:16.188429",
     "status": "completed"
    },
    "tags": []
   },
   "outputs": [
    {
     "data": {
      "text/html": [
       "<div>\n",
       "<style scoped>\n",
       "    .dataframe tbody tr th:only-of-type {\n",
       "        vertical-align: middle;\n",
       "    }\n",
       "\n",
       "    .dataframe tbody tr th {\n",
       "        vertical-align: top;\n",
       "    }\n",
       "\n",
       "    .dataframe thead th {\n",
       "        text-align: right;\n",
       "    }\n",
       "</style>\n",
       "<table border=\"1\" class=\"dataframe\">\n",
       "  <thead>\n",
       "    <tr style=\"text-align: right;\">\n",
       "      <th></th>\n",
       "      <th>Path</th>\n",
       "      <th>Enlarged Cardiomediastinum</th>\n",
       "      <th>Cardiomegaly</th>\n",
       "      <th>Lung Opacity</th>\n",
       "      <th>Lung Lesion</th>\n",
       "      <th>Edema</th>\n",
       "      <th>Consolidation</th>\n",
       "      <th>Pneumonia</th>\n",
       "      <th>Atelectasis</th>\n",
       "      <th>Pneumothorax</th>\n",
       "      <th>Pleural Effusion</th>\n",
       "      <th>Fracture</th>\n",
       "    </tr>\n",
       "  </thead>\n",
       "  <tbody>\n",
       "    <tr>\n",
       "      <th>0</th>\n",
       "      <td>/kaggle/input/chexpert/valid/patient64541/stud...</td>\n",
       "      <td>1.0</td>\n",
       "      <td>1.0</td>\n",
       "      <td>1.0</td>\n",
       "      <td>0.0</td>\n",
       "      <td>0.0</td>\n",
       "      <td>0.0</td>\n",
       "      <td>0.0</td>\n",
       "      <td>0.0</td>\n",
       "      <td>0.0</td>\n",
       "      <td>0.0</td>\n",
       "      <td>0.0</td>\n",
       "    </tr>\n",
       "    <tr>\n",
       "      <th>1</th>\n",
       "      <td>/kaggle/input/chexpert/valid/patient64542/stud...</td>\n",
       "      <td>0.0</td>\n",
       "      <td>0.0</td>\n",
       "      <td>0.0</td>\n",
       "      <td>0.0</td>\n",
       "      <td>0.0</td>\n",
       "      <td>0.0</td>\n",
       "      <td>0.0</td>\n",
       "      <td>0.0</td>\n",
       "      <td>0.0</td>\n",
       "      <td>0.0</td>\n",
       "      <td>0.0</td>\n",
       "    </tr>\n",
       "    <tr>\n",
       "      <th>2</th>\n",
       "      <td>/kaggle/input/chexpert/valid/patient64542/stud...</td>\n",
       "      <td>0.0</td>\n",
       "      <td>0.0</td>\n",
       "      <td>0.0</td>\n",
       "      <td>0.0</td>\n",
       "      <td>0.0</td>\n",
       "      <td>0.0</td>\n",
       "      <td>0.0</td>\n",
       "      <td>0.0</td>\n",
       "      <td>0.0</td>\n",
       "      <td>0.0</td>\n",
       "      <td>0.0</td>\n",
       "    </tr>\n",
       "    <tr>\n",
       "      <th>3</th>\n",
       "      <td>/kaggle/input/chexpert/valid/patient64543/stud...</td>\n",
       "      <td>1.0</td>\n",
       "      <td>0.0</td>\n",
       "      <td>1.0</td>\n",
       "      <td>0.0</td>\n",
       "      <td>1.0</td>\n",
       "      <td>0.0</td>\n",
       "      <td>0.0</td>\n",
       "      <td>0.0</td>\n",
       "      <td>0.0</td>\n",
       "      <td>0.0</td>\n",
       "      <td>0.0</td>\n",
       "    </tr>\n",
       "    <tr>\n",
       "      <th>4</th>\n",
       "      <td>/kaggle/input/chexpert/valid/patient64544/stud...</td>\n",
       "      <td>0.0</td>\n",
       "      <td>0.0</td>\n",
       "      <td>0.0</td>\n",
       "      <td>0.0</td>\n",
       "      <td>0.0</td>\n",
       "      <td>0.0</td>\n",
       "      <td>0.0</td>\n",
       "      <td>0.0</td>\n",
       "      <td>0.0</td>\n",
       "      <td>0.0</td>\n",
       "      <td>0.0</td>\n",
       "    </tr>\n",
       "    <tr>\n",
       "      <th>...</th>\n",
       "      <td>...</td>\n",
       "      <td>...</td>\n",
       "      <td>...</td>\n",
       "      <td>...</td>\n",
       "      <td>...</td>\n",
       "      <td>...</td>\n",
       "      <td>...</td>\n",
       "      <td>...</td>\n",
       "      <td>...</td>\n",
       "      <td>...</td>\n",
       "      <td>...</td>\n",
       "      <td>...</td>\n",
       "    </tr>\n",
       "    <tr>\n",
       "      <th>229</th>\n",
       "      <td>/kaggle/input/chexpert/valid/patient64736/stud...</td>\n",
       "      <td>0.0</td>\n",
       "      <td>0.0</td>\n",
       "      <td>0.0</td>\n",
       "      <td>0.0</td>\n",
       "      <td>0.0</td>\n",
       "      <td>0.0</td>\n",
       "      <td>0.0</td>\n",
       "      <td>0.0</td>\n",
       "      <td>0.0</td>\n",
       "      <td>0.0</td>\n",
       "      <td>0.0</td>\n",
       "    </tr>\n",
       "    <tr>\n",
       "      <th>230</th>\n",
       "      <td>/kaggle/input/chexpert/valid/patient64737/stud...</td>\n",
       "      <td>0.0</td>\n",
       "      <td>0.0</td>\n",
       "      <td>0.0</td>\n",
       "      <td>0.0</td>\n",
       "      <td>0.0</td>\n",
       "      <td>0.0</td>\n",
       "      <td>0.0</td>\n",
       "      <td>0.0</td>\n",
       "      <td>0.0</td>\n",
       "      <td>0.0</td>\n",
       "      <td>0.0</td>\n",
       "    </tr>\n",
       "    <tr>\n",
       "      <th>231</th>\n",
       "      <td>/kaggle/input/chexpert/valid/patient64738/stud...</td>\n",
       "      <td>1.0</td>\n",
       "      <td>1.0</td>\n",
       "      <td>1.0</td>\n",
       "      <td>0.0</td>\n",
       "      <td>1.0</td>\n",
       "      <td>0.0</td>\n",
       "      <td>0.0</td>\n",
       "      <td>0.0</td>\n",
       "      <td>0.0</td>\n",
       "      <td>0.0</td>\n",
       "      <td>0.0</td>\n",
       "    </tr>\n",
       "    <tr>\n",
       "      <th>232</th>\n",
       "      <td>/kaggle/input/chexpert/valid/patient64739/stud...</td>\n",
       "      <td>1.0</td>\n",
       "      <td>0.0</td>\n",
       "      <td>0.0</td>\n",
       "      <td>0.0</td>\n",
       "      <td>0.0</td>\n",
       "      <td>0.0</td>\n",
       "      <td>0.0</td>\n",
       "      <td>0.0</td>\n",
       "      <td>0.0</td>\n",
       "      <td>0.0</td>\n",
       "      <td>0.0</td>\n",
       "    </tr>\n",
       "    <tr>\n",
       "      <th>233</th>\n",
       "      <td>/kaggle/input/chexpert/valid/patient64740/stud...</td>\n",
       "      <td>1.0</td>\n",
       "      <td>0.0</td>\n",
       "      <td>1.0</td>\n",
       "      <td>0.0</td>\n",
       "      <td>0.0</td>\n",
       "      <td>0.0</td>\n",
       "      <td>0.0</td>\n",
       "      <td>1.0</td>\n",
       "      <td>0.0</td>\n",
       "      <td>1.0</td>\n",
       "      <td>0.0</td>\n",
       "    </tr>\n",
       "  </tbody>\n",
       "</table>\n",
       "<p>234 rows × 12 columns</p>\n",
       "</div>"
      ],
      "text/plain": [
       "                                                  Path  \\\n",
       "0    /kaggle/input/chexpert/valid/patient64541/stud...   \n",
       "1    /kaggle/input/chexpert/valid/patient64542/stud...   \n",
       "2    /kaggle/input/chexpert/valid/patient64542/stud...   \n",
       "3    /kaggle/input/chexpert/valid/patient64543/stud...   \n",
       "4    /kaggle/input/chexpert/valid/patient64544/stud...   \n",
       "..                                                 ...   \n",
       "229  /kaggle/input/chexpert/valid/patient64736/stud...   \n",
       "230  /kaggle/input/chexpert/valid/patient64737/stud...   \n",
       "231  /kaggle/input/chexpert/valid/patient64738/stud...   \n",
       "232  /kaggle/input/chexpert/valid/patient64739/stud...   \n",
       "233  /kaggle/input/chexpert/valid/patient64740/stud...   \n",
       "\n",
       "     Enlarged Cardiomediastinum  Cardiomegaly  Lung Opacity  Lung Lesion  \\\n",
       "0                           1.0           1.0           1.0          0.0   \n",
       "1                           0.0           0.0           0.0          0.0   \n",
       "2                           0.0           0.0           0.0          0.0   \n",
       "3                           1.0           0.0           1.0          0.0   \n",
       "4                           0.0           0.0           0.0          0.0   \n",
       "..                          ...           ...           ...          ...   \n",
       "229                         0.0           0.0           0.0          0.0   \n",
       "230                         0.0           0.0           0.0          0.0   \n",
       "231                         1.0           1.0           1.0          0.0   \n",
       "232                         1.0           0.0           0.0          0.0   \n",
       "233                         1.0           0.0           1.0          0.0   \n",
       "\n",
       "     Edema  Consolidation  Pneumonia  Atelectasis  Pneumothorax  \\\n",
       "0      0.0            0.0        0.0          0.0           0.0   \n",
       "1      0.0            0.0        0.0          0.0           0.0   \n",
       "2      0.0            0.0        0.0          0.0           0.0   \n",
       "3      1.0            0.0        0.0          0.0           0.0   \n",
       "4      0.0            0.0        0.0          0.0           0.0   \n",
       "..     ...            ...        ...          ...           ...   \n",
       "229    0.0            0.0        0.0          0.0           0.0   \n",
       "230    0.0            0.0        0.0          0.0           0.0   \n",
       "231    1.0            0.0        0.0          0.0           0.0   \n",
       "232    0.0            0.0        0.0          0.0           0.0   \n",
       "233    0.0            0.0        0.0          1.0           0.0   \n",
       "\n",
       "     Pleural Effusion  Fracture  \n",
       "0                 0.0       0.0  \n",
       "1                 0.0       0.0  \n",
       "2                 0.0       0.0  \n",
       "3                 0.0       0.0  \n",
       "4                 0.0       0.0  \n",
       "..                ...       ...  \n",
       "229               0.0       0.0  \n",
       "230               0.0       0.0  \n",
       "231               0.0       0.0  \n",
       "232               0.0       0.0  \n",
       "233               1.0       0.0  \n",
       "\n",
       "[234 rows x 12 columns]"
      ]
     },
     "execution_count": 14,
     "metadata": {},
     "output_type": "execute_result"
    }
   ],
   "source": [
    "test = test.drop([\"Sex\",\"Age\",\"Frontal/Lateral\",\"AP/PA\",'No Finding','Pleural Other','Support Devices'],axis=1)\n",
    "test"
   ]
  },
  {
   "cell_type": "code",
   "execution_count": 15,
   "id": "1eaeefa0",
   "metadata": {
    "execution": {
     "iopub.execute_input": "2024-02-27T06:03:16.271625Z",
     "iopub.status.busy": "2024-02-27T06:03:16.271219Z",
     "iopub.status.idle": "2024-02-27T06:03:16.296782Z",
     "shell.execute_reply": "2024-02-27T06:03:16.295779Z"
    },
    "papermill": {
     "duration": 0.045562,
     "end_time": "2024-02-27T06:03:16.298900",
     "exception": false,
     "start_time": "2024-02-27T06:03:16.253338",
     "status": "completed"
    },
    "tags": []
   },
   "outputs": [
    {
     "data": {
      "text/html": [
       "<div>\n",
       "<style scoped>\n",
       "    .dataframe tbody tr th:only-of-type {\n",
       "        vertical-align: middle;\n",
       "    }\n",
       "\n",
       "    .dataframe tbody tr th {\n",
       "        vertical-align: top;\n",
       "    }\n",
       "\n",
       "    .dataframe thead th {\n",
       "        text-align: right;\n",
       "    }\n",
       "</style>\n",
       "<table border=\"1\" class=\"dataframe\">\n",
       "  <thead>\n",
       "    <tr style=\"text-align: right;\">\n",
       "      <th></th>\n",
       "      <th>Path</th>\n",
       "      <th>Enlarged Cardiomediastinum</th>\n",
       "      <th>Cardiomegaly</th>\n",
       "      <th>Lung Opacity</th>\n",
       "      <th>Lung Lesion</th>\n",
       "      <th>Edema</th>\n",
       "      <th>Consolidation</th>\n",
       "      <th>Pneumonia</th>\n",
       "      <th>Atelectasis</th>\n",
       "      <th>Pneumothorax</th>\n",
       "      <th>Effusion</th>\n",
       "      <th>Fracture</th>\n",
       "    </tr>\n",
       "  </thead>\n",
       "  <tbody>\n",
       "    <tr>\n",
       "      <th>0</th>\n",
       "      <td>/kaggle/input/chexpert/valid/patient64541/stud...</td>\n",
       "      <td>1.0</td>\n",
       "      <td>1.0</td>\n",
       "      <td>1.0</td>\n",
       "      <td>0.0</td>\n",
       "      <td>0.0</td>\n",
       "      <td>0.0</td>\n",
       "      <td>0.0</td>\n",
       "      <td>0.0</td>\n",
       "      <td>0.0</td>\n",
       "      <td>0.0</td>\n",
       "      <td>0.0</td>\n",
       "    </tr>\n",
       "    <tr>\n",
       "      <th>1</th>\n",
       "      <td>/kaggle/input/chexpert/valid/patient64542/stud...</td>\n",
       "      <td>0.0</td>\n",
       "      <td>0.0</td>\n",
       "      <td>0.0</td>\n",
       "      <td>0.0</td>\n",
       "      <td>0.0</td>\n",
       "      <td>0.0</td>\n",
       "      <td>0.0</td>\n",
       "      <td>0.0</td>\n",
       "      <td>0.0</td>\n",
       "      <td>0.0</td>\n",
       "      <td>0.0</td>\n",
       "    </tr>\n",
       "    <tr>\n",
       "      <th>2</th>\n",
       "      <td>/kaggle/input/chexpert/valid/patient64542/stud...</td>\n",
       "      <td>0.0</td>\n",
       "      <td>0.0</td>\n",
       "      <td>0.0</td>\n",
       "      <td>0.0</td>\n",
       "      <td>0.0</td>\n",
       "      <td>0.0</td>\n",
       "      <td>0.0</td>\n",
       "      <td>0.0</td>\n",
       "      <td>0.0</td>\n",
       "      <td>0.0</td>\n",
       "      <td>0.0</td>\n",
       "    </tr>\n",
       "    <tr>\n",
       "      <th>3</th>\n",
       "      <td>/kaggle/input/chexpert/valid/patient64543/stud...</td>\n",
       "      <td>1.0</td>\n",
       "      <td>0.0</td>\n",
       "      <td>1.0</td>\n",
       "      <td>0.0</td>\n",
       "      <td>1.0</td>\n",
       "      <td>0.0</td>\n",
       "      <td>0.0</td>\n",
       "      <td>0.0</td>\n",
       "      <td>0.0</td>\n",
       "      <td>0.0</td>\n",
       "      <td>0.0</td>\n",
       "    </tr>\n",
       "    <tr>\n",
       "      <th>4</th>\n",
       "      <td>/kaggle/input/chexpert/valid/patient64544/stud...</td>\n",
       "      <td>0.0</td>\n",
       "      <td>0.0</td>\n",
       "      <td>0.0</td>\n",
       "      <td>0.0</td>\n",
       "      <td>0.0</td>\n",
       "      <td>0.0</td>\n",
       "      <td>0.0</td>\n",
       "      <td>0.0</td>\n",
       "      <td>0.0</td>\n",
       "      <td>0.0</td>\n",
       "      <td>0.0</td>\n",
       "    </tr>\n",
       "    <tr>\n",
       "      <th>...</th>\n",
       "      <td>...</td>\n",
       "      <td>...</td>\n",
       "      <td>...</td>\n",
       "      <td>...</td>\n",
       "      <td>...</td>\n",
       "      <td>...</td>\n",
       "      <td>...</td>\n",
       "      <td>...</td>\n",
       "      <td>...</td>\n",
       "      <td>...</td>\n",
       "      <td>...</td>\n",
       "      <td>...</td>\n",
       "    </tr>\n",
       "    <tr>\n",
       "      <th>229</th>\n",
       "      <td>/kaggle/input/chexpert/valid/patient64736/stud...</td>\n",
       "      <td>0.0</td>\n",
       "      <td>0.0</td>\n",
       "      <td>0.0</td>\n",
       "      <td>0.0</td>\n",
       "      <td>0.0</td>\n",
       "      <td>0.0</td>\n",
       "      <td>0.0</td>\n",
       "      <td>0.0</td>\n",
       "      <td>0.0</td>\n",
       "      <td>0.0</td>\n",
       "      <td>0.0</td>\n",
       "    </tr>\n",
       "    <tr>\n",
       "      <th>230</th>\n",
       "      <td>/kaggle/input/chexpert/valid/patient64737/stud...</td>\n",
       "      <td>0.0</td>\n",
       "      <td>0.0</td>\n",
       "      <td>0.0</td>\n",
       "      <td>0.0</td>\n",
       "      <td>0.0</td>\n",
       "      <td>0.0</td>\n",
       "      <td>0.0</td>\n",
       "      <td>0.0</td>\n",
       "      <td>0.0</td>\n",
       "      <td>0.0</td>\n",
       "      <td>0.0</td>\n",
       "    </tr>\n",
       "    <tr>\n",
       "      <th>231</th>\n",
       "      <td>/kaggle/input/chexpert/valid/patient64738/stud...</td>\n",
       "      <td>1.0</td>\n",
       "      <td>1.0</td>\n",
       "      <td>1.0</td>\n",
       "      <td>0.0</td>\n",
       "      <td>1.0</td>\n",
       "      <td>0.0</td>\n",
       "      <td>0.0</td>\n",
       "      <td>0.0</td>\n",
       "      <td>0.0</td>\n",
       "      <td>0.0</td>\n",
       "      <td>0.0</td>\n",
       "    </tr>\n",
       "    <tr>\n",
       "      <th>232</th>\n",
       "      <td>/kaggle/input/chexpert/valid/patient64739/stud...</td>\n",
       "      <td>1.0</td>\n",
       "      <td>0.0</td>\n",
       "      <td>0.0</td>\n",
       "      <td>0.0</td>\n",
       "      <td>0.0</td>\n",
       "      <td>0.0</td>\n",
       "      <td>0.0</td>\n",
       "      <td>0.0</td>\n",
       "      <td>0.0</td>\n",
       "      <td>0.0</td>\n",
       "      <td>0.0</td>\n",
       "    </tr>\n",
       "    <tr>\n",
       "      <th>233</th>\n",
       "      <td>/kaggle/input/chexpert/valid/patient64740/stud...</td>\n",
       "      <td>1.0</td>\n",
       "      <td>0.0</td>\n",
       "      <td>1.0</td>\n",
       "      <td>0.0</td>\n",
       "      <td>0.0</td>\n",
       "      <td>0.0</td>\n",
       "      <td>0.0</td>\n",
       "      <td>1.0</td>\n",
       "      <td>0.0</td>\n",
       "      <td>1.0</td>\n",
       "      <td>0.0</td>\n",
       "    </tr>\n",
       "  </tbody>\n",
       "</table>\n",
       "<p>234 rows × 12 columns</p>\n",
       "</div>"
      ],
      "text/plain": [
       "                                                  Path  \\\n",
       "0    /kaggle/input/chexpert/valid/patient64541/stud...   \n",
       "1    /kaggle/input/chexpert/valid/patient64542/stud...   \n",
       "2    /kaggle/input/chexpert/valid/patient64542/stud...   \n",
       "3    /kaggle/input/chexpert/valid/patient64543/stud...   \n",
       "4    /kaggle/input/chexpert/valid/patient64544/stud...   \n",
       "..                                                 ...   \n",
       "229  /kaggle/input/chexpert/valid/patient64736/stud...   \n",
       "230  /kaggle/input/chexpert/valid/patient64737/stud...   \n",
       "231  /kaggle/input/chexpert/valid/patient64738/stud...   \n",
       "232  /kaggle/input/chexpert/valid/patient64739/stud...   \n",
       "233  /kaggle/input/chexpert/valid/patient64740/stud...   \n",
       "\n",
       "     Enlarged Cardiomediastinum  Cardiomegaly  Lung Opacity  Lung Lesion  \\\n",
       "0                           1.0           1.0           1.0          0.0   \n",
       "1                           0.0           0.0           0.0          0.0   \n",
       "2                           0.0           0.0           0.0          0.0   \n",
       "3                           1.0           0.0           1.0          0.0   \n",
       "4                           0.0           0.0           0.0          0.0   \n",
       "..                          ...           ...           ...          ...   \n",
       "229                         0.0           0.0           0.0          0.0   \n",
       "230                         0.0           0.0           0.0          0.0   \n",
       "231                         1.0           1.0           1.0          0.0   \n",
       "232                         1.0           0.0           0.0          0.0   \n",
       "233                         1.0           0.0           1.0          0.0   \n",
       "\n",
       "     Edema  Consolidation  Pneumonia  Atelectasis  Pneumothorax  Effusion  \\\n",
       "0      0.0            0.0        0.0          0.0           0.0       0.0   \n",
       "1      0.0            0.0        0.0          0.0           0.0       0.0   \n",
       "2      0.0            0.0        0.0          0.0           0.0       0.0   \n",
       "3      1.0            0.0        0.0          0.0           0.0       0.0   \n",
       "4      0.0            0.0        0.0          0.0           0.0       0.0   \n",
       "..     ...            ...        ...          ...           ...       ...   \n",
       "229    0.0            0.0        0.0          0.0           0.0       0.0   \n",
       "230    0.0            0.0        0.0          0.0           0.0       0.0   \n",
       "231    1.0            0.0        0.0          0.0           0.0       0.0   \n",
       "232    0.0            0.0        0.0          0.0           0.0       0.0   \n",
       "233    0.0            0.0        0.0          1.0           0.0       1.0   \n",
       "\n",
       "     Fracture  \n",
       "0         0.0  \n",
       "1         0.0  \n",
       "2         0.0  \n",
       "3         0.0  \n",
       "4         0.0  \n",
       "..        ...  \n",
       "229       0.0  \n",
       "230       0.0  \n",
       "231       0.0  \n",
       "232       0.0  \n",
       "233       0.0  \n",
       "\n",
       "[234 rows x 12 columns]"
      ]
     },
     "execution_count": 15,
     "metadata": {},
     "output_type": "execute_result"
    }
   ],
   "source": [
    "test.rename(columns={'Pleural Effusion': 'Effusion'}, inplace=True)\n",
    "test"
   ]
  },
  {
   "cell_type": "code",
   "execution_count": 16,
   "id": "f5b2efa8",
   "metadata": {
    "execution": {
     "iopub.execute_input": "2024-02-27T06:03:16.334985Z",
     "iopub.status.busy": "2024-02-27T06:03:16.334139Z",
     "iopub.status.idle": "2024-02-27T06:03:16.363302Z",
     "shell.execute_reply": "2024-02-27T06:03:16.362082Z"
    },
    "papermill": {
     "duration": 0.049704,
     "end_time": "2024-02-27T06:03:16.365632",
     "exception": false,
     "start_time": "2024-02-27T06:03:16.315928",
     "status": "completed"
    },
    "tags": []
   },
   "outputs": [
    {
     "data": {
      "text/html": [
       "<div>\n",
       "<style scoped>\n",
       "    .dataframe tbody tr th:only-of-type {\n",
       "        vertical-align: middle;\n",
       "    }\n",
       "\n",
       "    .dataframe tbody tr th {\n",
       "        vertical-align: top;\n",
       "    }\n",
       "\n",
       "    .dataframe thead th {\n",
       "        text-align: right;\n",
       "    }\n",
       "</style>\n",
       "<table border=\"1\" class=\"dataframe\">\n",
       "  <thead>\n",
       "    <tr style=\"text-align: right;\">\n",
       "      <th></th>\n",
       "      <th>Path</th>\n",
       "      <th>Atelectasis</th>\n",
       "      <th>Consolidation</th>\n",
       "      <th>Pneumothorax</th>\n",
       "      <th>Edema</th>\n",
       "      <th>Effusion</th>\n",
       "      <th>Pneumonia</th>\n",
       "      <th>Cardiomegaly</th>\n",
       "      <th>Lung Lesion</th>\n",
       "      <th>Fracture</th>\n",
       "      <th>Lung Opacity</th>\n",
       "      <th>Enlarged Cardiomediastinum</th>\n",
       "    </tr>\n",
       "  </thead>\n",
       "  <tbody>\n",
       "    <tr>\n",
       "      <th>0</th>\n",
       "      <td>/kaggle/input/chexpert/valid/patient64541/stud...</td>\n",
       "      <td>0.0</td>\n",
       "      <td>0.0</td>\n",
       "      <td>0.0</td>\n",
       "      <td>0.0</td>\n",
       "      <td>0.0</td>\n",
       "      <td>0.0</td>\n",
       "      <td>1.0</td>\n",
       "      <td>0.0</td>\n",
       "      <td>0.0</td>\n",
       "      <td>1.0</td>\n",
       "      <td>1.0</td>\n",
       "    </tr>\n",
       "    <tr>\n",
       "      <th>1</th>\n",
       "      <td>/kaggle/input/chexpert/valid/patient64542/stud...</td>\n",
       "      <td>0.0</td>\n",
       "      <td>0.0</td>\n",
       "      <td>0.0</td>\n",
       "      <td>0.0</td>\n",
       "      <td>0.0</td>\n",
       "      <td>0.0</td>\n",
       "      <td>0.0</td>\n",
       "      <td>0.0</td>\n",
       "      <td>0.0</td>\n",
       "      <td>0.0</td>\n",
       "      <td>0.0</td>\n",
       "    </tr>\n",
       "    <tr>\n",
       "      <th>2</th>\n",
       "      <td>/kaggle/input/chexpert/valid/patient64542/stud...</td>\n",
       "      <td>0.0</td>\n",
       "      <td>0.0</td>\n",
       "      <td>0.0</td>\n",
       "      <td>0.0</td>\n",
       "      <td>0.0</td>\n",
       "      <td>0.0</td>\n",
       "      <td>0.0</td>\n",
       "      <td>0.0</td>\n",
       "      <td>0.0</td>\n",
       "      <td>0.0</td>\n",
       "      <td>0.0</td>\n",
       "    </tr>\n",
       "    <tr>\n",
       "      <th>3</th>\n",
       "      <td>/kaggle/input/chexpert/valid/patient64543/stud...</td>\n",
       "      <td>0.0</td>\n",
       "      <td>0.0</td>\n",
       "      <td>0.0</td>\n",
       "      <td>1.0</td>\n",
       "      <td>0.0</td>\n",
       "      <td>0.0</td>\n",
       "      <td>0.0</td>\n",
       "      <td>0.0</td>\n",
       "      <td>0.0</td>\n",
       "      <td>1.0</td>\n",
       "      <td>1.0</td>\n",
       "    </tr>\n",
       "    <tr>\n",
       "      <th>4</th>\n",
       "      <td>/kaggle/input/chexpert/valid/patient64544/stud...</td>\n",
       "      <td>0.0</td>\n",
       "      <td>0.0</td>\n",
       "      <td>0.0</td>\n",
       "      <td>0.0</td>\n",
       "      <td>0.0</td>\n",
       "      <td>0.0</td>\n",
       "      <td>0.0</td>\n",
       "      <td>0.0</td>\n",
       "      <td>0.0</td>\n",
       "      <td>0.0</td>\n",
       "      <td>0.0</td>\n",
       "    </tr>\n",
       "    <tr>\n",
       "      <th>...</th>\n",
       "      <td>...</td>\n",
       "      <td>...</td>\n",
       "      <td>...</td>\n",
       "      <td>...</td>\n",
       "      <td>...</td>\n",
       "      <td>...</td>\n",
       "      <td>...</td>\n",
       "      <td>...</td>\n",
       "      <td>...</td>\n",
       "      <td>...</td>\n",
       "      <td>...</td>\n",
       "      <td>...</td>\n",
       "    </tr>\n",
       "    <tr>\n",
       "      <th>229</th>\n",
       "      <td>/kaggle/input/chexpert/valid/patient64736/stud...</td>\n",
       "      <td>0.0</td>\n",
       "      <td>0.0</td>\n",
       "      <td>0.0</td>\n",
       "      <td>0.0</td>\n",
       "      <td>0.0</td>\n",
       "      <td>0.0</td>\n",
       "      <td>0.0</td>\n",
       "      <td>0.0</td>\n",
       "      <td>0.0</td>\n",
       "      <td>0.0</td>\n",
       "      <td>0.0</td>\n",
       "    </tr>\n",
       "    <tr>\n",
       "      <th>230</th>\n",
       "      <td>/kaggle/input/chexpert/valid/patient64737/stud...</td>\n",
       "      <td>0.0</td>\n",
       "      <td>0.0</td>\n",
       "      <td>0.0</td>\n",
       "      <td>0.0</td>\n",
       "      <td>0.0</td>\n",
       "      <td>0.0</td>\n",
       "      <td>0.0</td>\n",
       "      <td>0.0</td>\n",
       "      <td>0.0</td>\n",
       "      <td>0.0</td>\n",
       "      <td>0.0</td>\n",
       "    </tr>\n",
       "    <tr>\n",
       "      <th>231</th>\n",
       "      <td>/kaggle/input/chexpert/valid/patient64738/stud...</td>\n",
       "      <td>0.0</td>\n",
       "      <td>0.0</td>\n",
       "      <td>0.0</td>\n",
       "      <td>1.0</td>\n",
       "      <td>0.0</td>\n",
       "      <td>0.0</td>\n",
       "      <td>1.0</td>\n",
       "      <td>0.0</td>\n",
       "      <td>0.0</td>\n",
       "      <td>1.0</td>\n",
       "      <td>1.0</td>\n",
       "    </tr>\n",
       "    <tr>\n",
       "      <th>232</th>\n",
       "      <td>/kaggle/input/chexpert/valid/patient64739/stud...</td>\n",
       "      <td>0.0</td>\n",
       "      <td>0.0</td>\n",
       "      <td>0.0</td>\n",
       "      <td>0.0</td>\n",
       "      <td>0.0</td>\n",
       "      <td>0.0</td>\n",
       "      <td>0.0</td>\n",
       "      <td>0.0</td>\n",
       "      <td>0.0</td>\n",
       "      <td>0.0</td>\n",
       "      <td>1.0</td>\n",
       "    </tr>\n",
       "    <tr>\n",
       "      <th>233</th>\n",
       "      <td>/kaggle/input/chexpert/valid/patient64740/stud...</td>\n",
       "      <td>1.0</td>\n",
       "      <td>0.0</td>\n",
       "      <td>0.0</td>\n",
       "      <td>0.0</td>\n",
       "      <td>1.0</td>\n",
       "      <td>0.0</td>\n",
       "      <td>0.0</td>\n",
       "      <td>0.0</td>\n",
       "      <td>0.0</td>\n",
       "      <td>1.0</td>\n",
       "      <td>1.0</td>\n",
       "    </tr>\n",
       "  </tbody>\n",
       "</table>\n",
       "<p>234 rows × 12 columns</p>\n",
       "</div>"
      ],
      "text/plain": [
       "                                                  Path  Atelectasis  \\\n",
       "0    /kaggle/input/chexpert/valid/patient64541/stud...          0.0   \n",
       "1    /kaggle/input/chexpert/valid/patient64542/stud...          0.0   \n",
       "2    /kaggle/input/chexpert/valid/patient64542/stud...          0.0   \n",
       "3    /kaggle/input/chexpert/valid/patient64543/stud...          0.0   \n",
       "4    /kaggle/input/chexpert/valid/patient64544/stud...          0.0   \n",
       "..                                                 ...          ...   \n",
       "229  /kaggle/input/chexpert/valid/patient64736/stud...          0.0   \n",
       "230  /kaggle/input/chexpert/valid/patient64737/stud...          0.0   \n",
       "231  /kaggle/input/chexpert/valid/patient64738/stud...          0.0   \n",
       "232  /kaggle/input/chexpert/valid/patient64739/stud...          0.0   \n",
       "233  /kaggle/input/chexpert/valid/patient64740/stud...          1.0   \n",
       "\n",
       "     Consolidation  Pneumothorax  Edema  Effusion  Pneumonia  Cardiomegaly  \\\n",
       "0              0.0           0.0    0.0       0.0        0.0           1.0   \n",
       "1              0.0           0.0    0.0       0.0        0.0           0.0   \n",
       "2              0.0           0.0    0.0       0.0        0.0           0.0   \n",
       "3              0.0           0.0    1.0       0.0        0.0           0.0   \n",
       "4              0.0           0.0    0.0       0.0        0.0           0.0   \n",
       "..             ...           ...    ...       ...        ...           ...   \n",
       "229            0.0           0.0    0.0       0.0        0.0           0.0   \n",
       "230            0.0           0.0    0.0       0.0        0.0           0.0   \n",
       "231            0.0           0.0    1.0       0.0        0.0           1.0   \n",
       "232            0.0           0.0    0.0       0.0        0.0           0.0   \n",
       "233            0.0           0.0    0.0       1.0        0.0           0.0   \n",
       "\n",
       "     Lung Lesion  Fracture  Lung Opacity  Enlarged Cardiomediastinum  \n",
       "0            0.0       0.0           1.0                         1.0  \n",
       "1            0.0       0.0           0.0                         0.0  \n",
       "2            0.0       0.0           0.0                         0.0  \n",
       "3            0.0       0.0           1.0                         1.0  \n",
       "4            0.0       0.0           0.0                         0.0  \n",
       "..           ...       ...           ...                         ...  \n",
       "229          0.0       0.0           0.0                         0.0  \n",
       "230          0.0       0.0           0.0                         0.0  \n",
       "231          0.0       0.0           1.0                         1.0  \n",
       "232          0.0       0.0           0.0                         1.0  \n",
       "233          0.0       0.0           1.0                         1.0  \n",
       "\n",
       "[234 rows x 12 columns]"
      ]
     },
     "execution_count": 16,
     "metadata": {},
     "output_type": "execute_result"
    }
   ],
   "source": [
    "test = test[['Path','Atelectasis','Consolidation','Pneumothorax','Edema','Effusion','Pneumonia','Cardiomegaly','Lung Lesion','Fracture','Lung Opacity','Enlarged Cardiomediastinum']]\n",
    "\n",
    "test"
   ]
  },
  {
   "cell_type": "code",
   "execution_count": 17,
   "id": "c0df09af",
   "metadata": {
    "execution": {
     "iopub.execute_input": "2024-02-27T06:03:16.403975Z",
     "iopub.status.busy": "2024-02-27T06:03:16.403525Z",
     "iopub.status.idle": "2024-02-27T06:03:16.461917Z",
     "shell.execute_reply": "2024-02-27T06:03:16.460903Z"
    },
    "papermill": {
     "duration": 0.080169,
     "end_time": "2024-02-27T06:03:16.464098",
     "exception": false,
     "start_time": "2024-02-27T06:03:16.383929",
     "status": "completed"
    },
    "tags": []
   },
   "outputs": [
    {
     "data": {
      "text/html": [
       "<div>\n",
       "<style scoped>\n",
       "    .dataframe tbody tr th:only-of-type {\n",
       "        vertical-align: middle;\n",
       "    }\n",
       "\n",
       "    .dataframe tbody tr th {\n",
       "        vertical-align: top;\n",
       "    }\n",
       "\n",
       "    .dataframe thead th {\n",
       "        text-align: right;\n",
       "    }\n",
       "</style>\n",
       "<table border=\"1\" class=\"dataframe\">\n",
       "  <thead>\n",
       "    <tr style=\"text-align: right;\">\n",
       "      <th></th>\n",
       "      <th>ImagePath</th>\n",
       "      <th>Labels</th>\n",
       "    </tr>\n",
       "  </thead>\n",
       "  <tbody>\n",
       "    <tr>\n",
       "      <th>0</th>\n",
       "      <td>/kaggle/input/chexpert/valid/patient64541/stud...</td>\n",
       "      <td>[Cardiomegaly, Lung Opacity, Enlarged Cardiome...</td>\n",
       "    </tr>\n",
       "    <tr>\n",
       "      <th>1</th>\n",
       "      <td>/kaggle/input/chexpert/valid/patient64542/stud...</td>\n",
       "      <td>[]</td>\n",
       "    </tr>\n",
       "    <tr>\n",
       "      <th>2</th>\n",
       "      <td>/kaggle/input/chexpert/valid/patient64542/stud...</td>\n",
       "      <td>[]</td>\n",
       "    </tr>\n",
       "    <tr>\n",
       "      <th>3</th>\n",
       "      <td>/kaggle/input/chexpert/valid/patient64543/stud...</td>\n",
       "      <td>[Edema, Lung Opacity, Enlarged Cardiomediastinum]</td>\n",
       "    </tr>\n",
       "    <tr>\n",
       "      <th>4</th>\n",
       "      <td>/kaggle/input/chexpert/valid/patient64544/stud...</td>\n",
       "      <td>[]</td>\n",
       "    </tr>\n",
       "    <tr>\n",
       "      <th>...</th>\n",
       "      <td>...</td>\n",
       "      <td>...</td>\n",
       "    </tr>\n",
       "    <tr>\n",
       "      <th>229</th>\n",
       "      <td>/kaggle/input/chexpert/valid/patient64736/stud...</td>\n",
       "      <td>[]</td>\n",
       "    </tr>\n",
       "    <tr>\n",
       "      <th>230</th>\n",
       "      <td>/kaggle/input/chexpert/valid/patient64737/stud...</td>\n",
       "      <td>[]</td>\n",
       "    </tr>\n",
       "    <tr>\n",
       "      <th>231</th>\n",
       "      <td>/kaggle/input/chexpert/valid/patient64738/stud...</td>\n",
       "      <td>[Edema, Cardiomegaly, Lung Opacity, Enlarged C...</td>\n",
       "    </tr>\n",
       "    <tr>\n",
       "      <th>232</th>\n",
       "      <td>/kaggle/input/chexpert/valid/patient64739/stud...</td>\n",
       "      <td>[Enlarged Cardiomediastinum]</td>\n",
       "    </tr>\n",
       "    <tr>\n",
       "      <th>233</th>\n",
       "      <td>/kaggle/input/chexpert/valid/patient64740/stud...</td>\n",
       "      <td>[Atelectasis, Effusion, Lung Opacity, Enlarged...</td>\n",
       "    </tr>\n",
       "  </tbody>\n",
       "</table>\n",
       "<p>234 rows × 2 columns</p>\n",
       "</div>"
      ],
      "text/plain": [
       "                                             ImagePath  \\\n",
       "0    /kaggle/input/chexpert/valid/patient64541/stud...   \n",
       "1    /kaggle/input/chexpert/valid/patient64542/stud...   \n",
       "2    /kaggle/input/chexpert/valid/patient64542/stud...   \n",
       "3    /kaggle/input/chexpert/valid/patient64543/stud...   \n",
       "4    /kaggle/input/chexpert/valid/patient64544/stud...   \n",
       "..                                                 ...   \n",
       "229  /kaggle/input/chexpert/valid/patient64736/stud...   \n",
       "230  /kaggle/input/chexpert/valid/patient64737/stud...   \n",
       "231  /kaggle/input/chexpert/valid/patient64738/stud...   \n",
       "232  /kaggle/input/chexpert/valid/patient64739/stud...   \n",
       "233  /kaggle/input/chexpert/valid/patient64740/stud...   \n",
       "\n",
       "                                                Labels  \n",
       "0    [Cardiomegaly, Lung Opacity, Enlarged Cardiome...  \n",
       "1                                                   []  \n",
       "2                                                   []  \n",
       "3    [Edema, Lung Opacity, Enlarged Cardiomediastinum]  \n",
       "4                                                   []  \n",
       "..                                                 ...  \n",
       "229                                                 []  \n",
       "230                                                 []  \n",
       "231  [Edema, Cardiomegaly, Lung Opacity, Enlarged C...  \n",
       "232                       [Enlarged Cardiomediastinum]  \n",
       "233  [Atelectasis, Effusion, Lung Opacity, Enlarged...  \n",
       "\n",
       "[234 rows x 2 columns]"
      ]
     },
     "execution_count": 17,
     "metadata": {},
     "output_type": "execute_result"
    }
   ],
   "source": [
    "label_columns = test.drop(['Path'], axis=1)\n",
    "image_path = test['Path']\n",
    "\n",
    "new_test = pd.DataFrame({\n",
    "    'ImagePath': image_path,\n",
    "    'Labels': label_columns.apply(lambda row: list(row[row == 1].index), axis=1)\n",
    "})\n",
    "\n",
    "new_test"
   ]
  },
  {
   "cell_type": "code",
   "execution_count": 18,
   "id": "e65f3462",
   "metadata": {
    "execution": {
     "iopub.execute_input": "2024-02-27T06:03:16.560124Z",
     "iopub.status.busy": "2024-02-27T06:03:16.559710Z",
     "iopub.status.idle": "2024-02-27T06:03:19.876907Z",
     "shell.execute_reply": "2024-02-27T06:03:19.875989Z"
    },
    "papermill": {
     "duration": 3.397697,
     "end_time": "2024-02-27T06:03:19.879370",
     "exception": false,
     "start_time": "2024-02-27T06:03:16.481673",
     "status": "completed"
    },
    "tags": []
   },
   "outputs": [],
   "source": [
    "image = []\n",
    "\n",
    "j = 0 \n",
    "for i in new_test['ImagePath']:   \n",
    "    img = cv2.imread(i)\n",
    "    #img = cv2.resize(img, (224,224))\n",
    "    image.append(img)\n",
    "    j = j+1\n",
    "    \n",
    "labels = new_test['Labels'].apply(lambda x: x if isinstance(x, list) else [x]).tolist()"
   ]
  },
  {
   "cell_type": "code",
   "execution_count": 19,
   "id": "fddaf6b6",
   "metadata": {
    "execution": {
     "iopub.execute_input": "2024-02-27T06:03:19.918037Z",
     "iopub.status.busy": "2024-02-27T06:03:19.917630Z",
     "iopub.status.idle": "2024-02-27T06:03:19.922686Z",
     "shell.execute_reply": "2024-02-27T06:03:19.921785Z"
    },
    "papermill": {
     "duration": 0.026916,
     "end_time": "2024-02-27T06:03:19.924631",
     "exception": false,
     "start_time": "2024-02-27T06:03:19.897715",
     "status": "completed"
    },
    "tags": []
   },
   "outputs": [],
   "source": [
    "#X = np.array(image) / 255.0\n",
    "Y = [np.array(label) for label in labels]\n",
    "\n",
    "#print(X.shape)"
   ]
  },
  {
   "cell_type": "code",
   "execution_count": 20,
   "id": "8e5203bf",
   "metadata": {
    "execution": {
     "iopub.execute_input": "2024-02-27T06:03:19.963530Z",
     "iopub.status.busy": "2024-02-27T06:03:19.962835Z",
     "iopub.status.idle": "2024-02-27T06:03:20.838114Z",
     "shell.execute_reply": "2024-02-27T06:03:20.837133Z"
    },
    "papermill": {
     "duration": 0.897451,
     "end_time": "2024-02-27T06:03:20.840791",
     "exception": false,
     "start_time": "2024-02-27T06:03:19.943340",
     "status": "completed"
    },
    "tags": []
   },
   "outputs": [],
   "source": [
    "from sklearn.metrics import confusion_matrix,  multilabel_confusion_matrix\n",
    "from sklearn.preprocessing import MultiLabelBinarizer\n",
    "\n",
    "classes = ['Atelectasis','Consolidation','Pneumothorax','Edema','Effusion','Pneumonia','Cardiomegaly','Lung Lesion','Fracture','Lung Opacity','Enlarged Cardiomediastinum']\n",
    "mlb = MultiLabelBinarizer(classes=classes)\n",
    "Y = mlb.fit_transform(Y)"
   ]
  },
  {
   "cell_type": "code",
   "execution_count": 21,
   "id": "105894a2",
   "metadata": {
    "execution": {
     "iopub.execute_input": "2024-02-27T06:03:20.878577Z",
     "iopub.status.busy": "2024-02-27T06:03:20.877713Z",
     "iopub.status.idle": "2024-02-27T06:03:20.882895Z",
     "shell.execute_reply": "2024-02-27T06:03:20.881896Z"
    },
    "papermill": {
     "duration": 0.027217,
     "end_time": "2024-02-27T06:03:20.885981",
     "exception": false,
     "start_time": "2024-02-27T06:03:20.858764",
     "status": "completed"
    },
    "tags": []
   },
   "outputs": [
    {
     "name": "stdout",
     "output_type": "stream",
     "text": [
      "['Atelectasis' 'Consolidation' 'Pneumothorax' 'Edema' 'Effusion'\n",
      " 'Pneumonia' 'Cardiomegaly' 'Lung Lesion' 'Fracture' 'Lung Opacity'\n",
      " 'Enlarged Cardiomediastinum']\n",
      "[0 0 0 1 0 0 0 0 0 1 1]\n"
     ]
    }
   ],
   "source": [
    "print(mlb.classes_)\n",
    "print(Y[3])"
   ]
  },
  {
   "cell_type": "markdown",
   "id": "b1c475a3",
   "metadata": {
    "papermill": {
     "duration": 0.017487,
     "end_time": "2024-02-27T06:03:20.921344",
     "exception": false,
     "start_time": "2024-02-27T06:03:20.903857",
     "status": "completed"
    },
    "tags": []
   },
   "source": [
    "# Predictions and Metrices"
   ]
  },
  {
   "cell_type": "code",
   "execution_count": 22,
   "id": "4c2722af",
   "metadata": {
    "execution": {
     "iopub.execute_input": "2024-02-27T06:03:20.958905Z",
     "iopub.status.busy": "2024-02-27T06:03:20.958528Z",
     "iopub.status.idle": "2024-02-27T06:04:00.539767Z",
     "shell.execute_reply": "2024-02-27T06:04:00.538515Z"
    },
    "papermill": {
     "duration": 39.602999,
     "end_time": "2024-02-27T06:04:00.542319",
     "exception": false,
     "start_time": "2024-02-27T06:03:20.939320",
     "status": "completed"
    },
    "tags": []
   },
   "outputs": [
    {
     "name": "stdout",
     "output_type": "stream",
     "text": [
      "Setting XRayResizer engine to cv2 could increase performance.\n"
     ]
    }
   ],
   "source": [
    "import os\n",
    "import pandas as pd\n",
    "import re\n",
    "\n",
    "classes = ['Atelectasis','Consolidation','Pneumothorax','Edema','Effusion','Pneumonia','Cardiomegaly','Lung Lesion','Fracture','Lung Opacity','Enlarged Cardiomediastinum']\n",
    "\n",
    "# Regular expression to match a number after a colon\n",
    "pattern = r':\\s*(\\d+(\\.\\d+)?)'\n",
    "\n",
    "transform = torchvision.transforms.Compose([xrv.datasets.XRayCenterCrop(),xrv.datasets.XRayResizer(224)])\n",
    "\n",
    "# List to store predictions and image names\n",
    "predict = pd.DataFrame()\n",
    "\n",
    "# Iterate over each image\n",
    "for image_name in image: \n",
    "\n",
    "    img = transform(image_name)\n",
    "    img = torch.from_numpy(img)\n",
    "    \n",
    "    # Obtain predictions for the image\n",
    "    outputs = model(img[None,...])  # Assuming you have image_tensor for each image\n",
    "    out = dict(zip(model.pathologies,outputs[0].detach().numpy()))\n",
    "    out.pop('')\n",
    "    outputs_array = [float(re.search(pattern, str(v)).group(1)) if re.search(pattern, str(v)) else float(v) for v in out.values()]\n",
    "    outputs_array = np.array(outputs_array)\n",
    "    #print(outputs_array.shape)\n",
    "    \n",
    "    # Convert the outputs_array to a DataFrame with a single row\n",
    "    predict_row = pd.DataFrame([outputs_array], columns=classes)\n",
    "    \n",
    "    # Append the row to the DataFrame\n",
    "    predict = pd.concat([predict, predict_row], ignore_index=True)\n",
    "    \n",
    "    "
   ]
  },
  {
   "cell_type": "markdown",
   "id": "92619f12",
   "metadata": {
    "papermill": {
     "duration": 0.017844,
     "end_time": "2024-02-27T06:04:00.578379",
     "exception": false,
     "start_time": "2024-02-27T06:04:00.560535",
     "status": "completed"
    },
    "tags": []
   },
   "source": [
    "# Prediction Table"
   ]
  },
  {
   "cell_type": "code",
   "execution_count": 23,
   "id": "be5ea1ea",
   "metadata": {
    "execution": {
     "iopub.execute_input": "2024-02-27T06:04:00.616152Z",
     "iopub.status.busy": "2024-02-27T06:04:00.615721Z",
     "iopub.status.idle": "2024-02-27T06:04:00.628456Z",
     "shell.execute_reply": "2024-02-27T06:04:00.627318Z"
    },
    "papermill": {
     "duration": 0.034409,
     "end_time": "2024-02-27T06:04:00.630848",
     "exception": false,
     "start_time": "2024-02-27T06:04:00.596439",
     "status": "completed"
    },
    "tags": []
   },
   "outputs": [
    {
     "name": "stdout",
     "output_type": "stream",
     "text": [
      "     Atelectasis  Consolidation  Pneumothorax     Edema  Effusion  Pneumonia  \\\n",
      "0       0.856896       0.870527      0.545771  0.840264  0.919895   0.687017   \n",
      "1       0.855081       0.870485      0.543774  0.843121  0.919826   0.683973   \n",
      "2       0.835345       0.829712      0.564513  0.822916  0.882423   0.667245   \n",
      "3       0.854888       0.870727      0.543470  0.843490  0.920004   0.683627   \n",
      "4       0.867695       0.899080      0.528954  0.859729  0.943542   0.694640   \n",
      "..           ...            ...           ...       ...       ...        ...   \n",
      "229     0.868523       0.900997      0.527957  0.860882  0.945079   0.695115   \n",
      "230     0.851707       0.860052      0.550915  0.834346  0.910902   0.682093   \n",
      "231     0.839827       0.837257      0.562052  0.824666  0.889822   0.671413   \n",
      "232     0.841898       0.840782      0.560600  0.825737  0.893257   0.673330   \n",
      "233     0.859922       0.882855      0.537718  0.850455  0.930211   0.688830   \n",
      "\n",
      "     Cardiomegaly  Lung Lesion  Fracture  Lung Opacity  \\\n",
      "0        0.834905     0.750339  0.687500      0.919261   \n",
      "1        0.832588     0.744385  0.686724      0.919070   \n",
      "2        0.805447     0.728234  0.687970      0.898358   \n",
      "3        0.832411     0.743661  0.686490      0.919059   \n",
      "4        0.850850     0.757603  0.684551      0.931467   \n",
      "..            ...          ...       ...           ...   \n",
      "229      0.852164     0.758641  0.684461      0.932318   \n",
      "230      0.827639     0.744885  0.688109      0.914256   \n",
      "231      0.811194     0.733546  0.687943      0.902514   \n",
      "232      0.813967     0.735812  0.688008      0.904511   \n",
      "233      0.839721     0.748827  0.685347      0.924208   \n",
      "\n",
      "     Enlarged Cardiomediastinum  \n",
      "0                      0.778665  \n",
      "1                      0.774893  \n",
      "2                      0.760276  \n",
      "3                      0.774364  \n",
      "4                      0.783355  \n",
      "..                          ...  \n",
      "229                    0.784173  \n",
      "230                    0.774733  \n",
      "231                    0.764714  \n",
      "232                    0.766658  \n",
      "233                    0.777936  \n",
      "\n",
      "[234 rows x 11 columns]\n"
     ]
    }
   ],
   "source": [
    "print(predict)"
   ]
  },
  {
   "cell_type": "markdown",
   "id": "5c94bbe2",
   "metadata": {
    "papermill": {
     "duration": 0.018494,
     "end_time": "2024-02-27T06:04:00.667678",
     "exception": false,
     "start_time": "2024-02-27T06:04:00.649184",
     "status": "completed"
    },
    "tags": []
   },
   "source": [
    "# Binarized Prediction Table"
   ]
  },
  {
   "cell_type": "code",
   "execution_count": 24,
   "id": "98b93ac2",
   "metadata": {
    "execution": {
     "iopub.execute_input": "2024-02-27T06:04:00.705739Z",
     "iopub.status.busy": "2024-02-27T06:04:00.705078Z",
     "iopub.status.idle": "2024-02-27T06:04:00.716437Z",
     "shell.execute_reply": "2024-02-27T06:04:00.715563Z"
    },
    "papermill": {
     "duration": 0.033138,
     "end_time": "2024-02-27T06:04:00.718866",
     "exception": false,
     "start_time": "2024-02-27T06:04:00.685728",
     "status": "completed"
    },
    "tags": []
   },
   "outputs": [
    {
     "name": "stdout",
     "output_type": "stream",
     "text": [
      "     Atelectasis  Consolidation  Pneumothorax  Edema  Effusion  Pneumonia  \\\n",
      "0              1              1             1      1         1          1   \n",
      "1              1              1             1      1         1          1   \n",
      "2              1              1             1      1         1          1   \n",
      "3              1              1             1      1         1          1   \n",
      "4              1              1             1      1         1          1   \n",
      "..           ...            ...           ...    ...       ...        ...   \n",
      "229            1              1             1      1         1          1   \n",
      "230            1              1             1      1         1          1   \n",
      "231            1              1             1      1         1          1   \n",
      "232            1              1             1      1         1          1   \n",
      "233            1              1             1      1         1          1   \n",
      "\n",
      "     Cardiomegaly  Lung Lesion  Fracture  Lung Opacity  \\\n",
      "0               1            1         1             1   \n",
      "1               1            1         1             1   \n",
      "2               1            1         1             1   \n",
      "3               1            1         1             1   \n",
      "4               1            1         1             1   \n",
      "..            ...          ...       ...           ...   \n",
      "229             1            1         1             1   \n",
      "230             1            1         1             1   \n",
      "231             1            1         1             1   \n",
      "232             1            1         1             1   \n",
      "233             1            1         1             1   \n",
      "\n",
      "     Enlarged Cardiomediastinum  \n",
      "0                             1  \n",
      "1                             1  \n",
      "2                             1  \n",
      "3                             1  \n",
      "4                             1  \n",
      "..                          ...  \n",
      "229                           1  \n",
      "230                           1  \n",
      "231                           1  \n",
      "232                           1  \n",
      "233                           1  \n",
      "\n",
      "[234 rows x 11 columns]\n"
     ]
    }
   ],
   "source": [
    "predict_binary = predict.applymap(lambda x: 1 if x > 0.5 else 0)\n",
    "\n",
    "# Print the resulting DataFrame\n",
    "print(predict_binary)"
   ]
  },
  {
   "cell_type": "markdown",
   "id": "f2305f43",
   "metadata": {
    "papermill": {
     "duration": 0.018498,
     "end_time": "2024-02-27T06:04:00.756466",
     "exception": false,
     "start_time": "2024-02-27T06:04:00.737968",
     "status": "completed"
    },
    "tags": []
   },
   "source": [
    "# Compare labels with actual ones"
   ]
  },
  {
   "cell_type": "code",
   "execution_count": 25,
   "id": "6ec93d2a",
   "metadata": {
    "execution": {
     "iopub.execute_input": "2024-02-27T06:04:00.795243Z",
     "iopub.status.busy": "2024-02-27T06:04:00.794548Z",
     "iopub.status.idle": "2024-02-27T06:04:00.895533Z",
     "shell.execute_reply": "2024-02-27T06:04:00.894328Z"
    },
    "papermill": {
     "duration": 0.12325,
     "end_time": "2024-02-27T06:04:00.898007",
     "exception": false,
     "start_time": "2024-02-27T06:04:00.774757",
     "status": "completed"
    },
    "tags": []
   },
   "outputs": [
    {
     "data": {
      "text/html": [
       "<div>\n",
       "<style scoped>\n",
       "    .dataframe tbody tr th:only-of-type {\n",
       "        vertical-align: middle;\n",
       "    }\n",
       "\n",
       "    .dataframe tbody tr th {\n",
       "        vertical-align: top;\n",
       "    }\n",
       "\n",
       "    .dataframe thead th {\n",
       "        text-align: right;\n",
       "    }\n",
       "</style>\n",
       "<table border=\"1\" class=\"dataframe\">\n",
       "  <thead>\n",
       "    <tr style=\"text-align: right;\">\n",
       "      <th></th>\n",
       "      <th>ImagePath</th>\n",
       "      <th>Labels</th>\n",
       "      <th>Predicted Labels</th>\n",
       "    </tr>\n",
       "  </thead>\n",
       "  <tbody>\n",
       "    <tr>\n",
       "      <th>0</th>\n",
       "      <td>/kaggle/input/chexpert/valid/patient64541/stud...</td>\n",
       "      <td>[Cardiomegaly, Lung Opacity, Enlarged Cardiome...</td>\n",
       "      <td>[Atelectasis, Consolidation, Pneumothorax, Ede...</td>\n",
       "    </tr>\n",
       "    <tr>\n",
       "      <th>1</th>\n",
       "      <td>/kaggle/input/chexpert/valid/patient64542/stud...</td>\n",
       "      <td>[]</td>\n",
       "      <td>[Atelectasis, Consolidation, Pneumothorax, Ede...</td>\n",
       "    </tr>\n",
       "    <tr>\n",
       "      <th>2</th>\n",
       "      <td>/kaggle/input/chexpert/valid/patient64542/stud...</td>\n",
       "      <td>[]</td>\n",
       "      <td>[Atelectasis, Consolidation, Pneumothorax, Ede...</td>\n",
       "    </tr>\n",
       "    <tr>\n",
       "      <th>3</th>\n",
       "      <td>/kaggle/input/chexpert/valid/patient64543/stud...</td>\n",
       "      <td>[Edema, Lung Opacity, Enlarged Cardiomediastinum]</td>\n",
       "      <td>[Atelectasis, Consolidation, Pneumothorax, Ede...</td>\n",
       "    </tr>\n",
       "    <tr>\n",
       "      <th>4</th>\n",
       "      <td>/kaggle/input/chexpert/valid/patient64544/stud...</td>\n",
       "      <td>[]</td>\n",
       "      <td>[Atelectasis, Consolidation, Pneumothorax, Ede...</td>\n",
       "    </tr>\n",
       "    <tr>\n",
       "      <th>...</th>\n",
       "      <td>...</td>\n",
       "      <td>...</td>\n",
       "      <td>...</td>\n",
       "    </tr>\n",
       "    <tr>\n",
       "      <th>229</th>\n",
       "      <td>/kaggle/input/chexpert/valid/patient64736/stud...</td>\n",
       "      <td>[]</td>\n",
       "      <td>[Atelectasis, Consolidation, Pneumothorax, Ede...</td>\n",
       "    </tr>\n",
       "    <tr>\n",
       "      <th>230</th>\n",
       "      <td>/kaggle/input/chexpert/valid/patient64737/stud...</td>\n",
       "      <td>[]</td>\n",
       "      <td>[Atelectasis, Consolidation, Pneumothorax, Ede...</td>\n",
       "    </tr>\n",
       "    <tr>\n",
       "      <th>231</th>\n",
       "      <td>/kaggle/input/chexpert/valid/patient64738/stud...</td>\n",
       "      <td>[Edema, Cardiomegaly, Lung Opacity, Enlarged C...</td>\n",
       "      <td>[Atelectasis, Consolidation, Pneumothorax, Ede...</td>\n",
       "    </tr>\n",
       "    <tr>\n",
       "      <th>232</th>\n",
       "      <td>/kaggle/input/chexpert/valid/patient64739/stud...</td>\n",
       "      <td>[Enlarged Cardiomediastinum]</td>\n",
       "      <td>[Atelectasis, Consolidation, Pneumothorax, Ede...</td>\n",
       "    </tr>\n",
       "    <tr>\n",
       "      <th>233</th>\n",
       "      <td>/kaggle/input/chexpert/valid/patient64740/stud...</td>\n",
       "      <td>[Atelectasis, Effusion, Lung Opacity, Enlarged...</td>\n",
       "      <td>[Atelectasis, Consolidation, Pneumothorax, Ede...</td>\n",
       "    </tr>\n",
       "  </tbody>\n",
       "</table>\n",
       "<p>234 rows × 3 columns</p>\n",
       "</div>"
      ],
      "text/plain": [
       "                                             ImagePath  \\\n",
       "0    /kaggle/input/chexpert/valid/patient64541/stud...   \n",
       "1    /kaggle/input/chexpert/valid/patient64542/stud...   \n",
       "2    /kaggle/input/chexpert/valid/patient64542/stud...   \n",
       "3    /kaggle/input/chexpert/valid/patient64543/stud...   \n",
       "4    /kaggle/input/chexpert/valid/patient64544/stud...   \n",
       "..                                                 ...   \n",
       "229  /kaggle/input/chexpert/valid/patient64736/stud...   \n",
       "230  /kaggle/input/chexpert/valid/patient64737/stud...   \n",
       "231  /kaggle/input/chexpert/valid/patient64738/stud...   \n",
       "232  /kaggle/input/chexpert/valid/patient64739/stud...   \n",
       "233  /kaggle/input/chexpert/valid/patient64740/stud...   \n",
       "\n",
       "                                                Labels  \\\n",
       "0    [Cardiomegaly, Lung Opacity, Enlarged Cardiome...   \n",
       "1                                                   []   \n",
       "2                                                   []   \n",
       "3    [Edema, Lung Opacity, Enlarged Cardiomediastinum]   \n",
       "4                                                   []   \n",
       "..                                                 ...   \n",
       "229                                                 []   \n",
       "230                                                 []   \n",
       "231  [Edema, Cardiomegaly, Lung Opacity, Enlarged C...   \n",
       "232                       [Enlarged Cardiomediastinum]   \n",
       "233  [Atelectasis, Effusion, Lung Opacity, Enlarged...   \n",
       "\n",
       "                                      Predicted Labels  \n",
       "0    [Atelectasis, Consolidation, Pneumothorax, Ede...  \n",
       "1    [Atelectasis, Consolidation, Pneumothorax, Ede...  \n",
       "2    [Atelectasis, Consolidation, Pneumothorax, Ede...  \n",
       "3    [Atelectasis, Consolidation, Pneumothorax, Ede...  \n",
       "4    [Atelectasis, Consolidation, Pneumothorax, Ede...  \n",
       "..                                                 ...  \n",
       "229  [Atelectasis, Consolidation, Pneumothorax, Ede...  \n",
       "230  [Atelectasis, Consolidation, Pneumothorax, Ede...  \n",
       "231  [Atelectasis, Consolidation, Pneumothorax, Ede...  \n",
       "232  [Atelectasis, Consolidation, Pneumothorax, Ede...  \n",
       "233  [Atelectasis, Consolidation, Pneumothorax, Ede...  \n",
       "\n",
       "[234 rows x 3 columns]"
      ]
     },
     "execution_count": 25,
     "metadata": {},
     "output_type": "execute_result"
    }
   ],
   "source": [
    "label_columns = test.drop(['Path'], axis=1)\n",
    "image_path = test['Path']\n",
    "pred_columns = predict_binary[:]\n",
    "\n",
    "predict_compare = pd.DataFrame({\n",
    "    'ImagePath': image_path,\n",
    "    'Labels': label_columns.apply(lambda row: list(row[row == 1].index), axis=1),\n",
    "    'Predicted Labels' : pred_columns.apply(lambda row: list(row[row == 1].index), axis=1)\n",
    "})\n",
    "\n",
    "predict_compare"
   ]
  },
  {
   "cell_type": "markdown",
   "id": "17727bd0",
   "metadata": {
    "papermill": {
     "duration": 0.018443,
     "end_time": "2024-02-27T06:04:00.935132",
     "exception": false,
     "start_time": "2024-02-27T06:04:00.916689",
     "status": "completed"
    },
    "tags": []
   },
   "source": [
    "# Label-By-Label Model Evaluation"
   ]
  },
  {
   "cell_type": "code",
   "execution_count": 26,
   "id": "71d9f8f0",
   "metadata": {
    "execution": {
     "iopub.execute_input": "2024-02-27T06:04:00.974501Z",
     "iopub.status.busy": "2024-02-27T06:04:00.974070Z",
     "iopub.status.idle": "2024-02-27T06:04:00.978179Z",
     "shell.execute_reply": "2024-02-27T06:04:00.977323Z"
    },
    "papermill": {
     "duration": 0.027127,
     "end_time": "2024-02-27T06:04:00.980993",
     "exception": false,
     "start_time": "2024-02-27T06:04:00.953866",
     "status": "completed"
    },
    "tags": []
   },
   "outputs": [],
   "source": [
    "import pandas as pd\n",
    "from sklearn.metrics import accuracy_score, f1_score, recall_score, precision_score"
   ]
  },
  {
   "cell_type": "code",
   "execution_count": 27,
   "id": "33483bbd",
   "metadata": {
    "execution": {
     "iopub.execute_input": "2024-02-27T06:04:01.021039Z",
     "iopub.status.busy": "2024-02-27T06:04:01.020222Z",
     "iopub.status.idle": "2024-02-27T06:04:01.025062Z",
     "shell.execute_reply": "2024-02-27T06:04:01.024028Z"
    },
    "papermill": {
     "duration": 0.027001,
     "end_time": "2024-02-27T06:04:01.027148",
     "exception": false,
     "start_time": "2024-02-27T06:04:01.000147",
     "status": "completed"
    },
    "tags": []
   },
   "outputs": [],
   "source": [
    "# Create a dictionary to store the metrics for each label\n",
    "metrics = {'Label': [], 'Accuracy': [], 'F1 Score': [], 'Recall': [], 'Precision': []}"
   ]
  },
  {
   "cell_type": "code",
   "execution_count": 28,
   "id": "edb3c208",
   "metadata": {
    "execution": {
     "iopub.execute_input": "2024-02-27T06:04:01.066197Z",
     "iopub.status.busy": "2024-02-27T06:04:01.065760Z",
     "iopub.status.idle": "2024-02-27T06:04:01.155546Z",
     "shell.execute_reply": "2024-02-27T06:04:01.154701Z"
    },
    "papermill": {
     "duration": 0.112212,
     "end_time": "2024-02-27T06:04:01.157955",
     "exception": false,
     "start_time": "2024-02-27T06:04:01.045743",
     "status": "completed"
    },
    "tags": []
   },
   "outputs": [],
   "source": [
    "# Loop through each label\n",
    "for label in predict_binary.columns:\n",
    "    # Calculate metrics for the label\n",
    "    accuracy = accuracy_score(test[label], predict_binary[label])\n",
    "    f1 = f1_score(test[label], predict_binary[label])\n",
    "    recall = recall_score(test[label], predict_binary[label])\n",
    "    precision = precision_score(test[label], predict_binary[label])\n",
    "    \n",
    "    # Append the metrics to the dictionary\n",
    "    metrics['Label'].append(label)\n",
    "    metrics['Accuracy'].append(accuracy)\n",
    "    metrics['F1 Score'].append(f1)\n",
    "    metrics['Recall'].append(recall)\n",
    "    metrics['Precision'].append(precision)"
   ]
  },
  {
   "cell_type": "code",
   "execution_count": 29,
   "id": "00e88805",
   "metadata": {
    "execution": {
     "iopub.execute_input": "2024-02-27T06:04:01.197658Z",
     "iopub.status.busy": "2024-02-27T06:04:01.196859Z",
     "iopub.status.idle": "2024-02-27T06:04:01.206631Z",
     "shell.execute_reply": "2024-02-27T06:04:01.205535Z"
    },
    "papermill": {
     "duration": 0.032422,
     "end_time": "2024-02-27T06:04:01.209244",
     "exception": false,
     "start_time": "2024-02-27T06:04:01.176822",
     "status": "completed"
    },
    "tags": []
   },
   "outputs": [
    {
     "name": "stdout",
     "output_type": "stream",
     "text": [
      "                         Label  Accuracy  F1 Score  Recall  Precision\n",
      "0                  Atelectasis  0.341880  0.509554     1.0   0.341880\n",
      "1                Consolidation  0.141026  0.247191     1.0   0.141026\n",
      "2                 Pneumothorax  0.034188  0.066116     1.0   0.034188\n",
      "3                        Edema  0.192308  0.322581     1.0   0.192308\n",
      "4                     Effusion  0.286325  0.445183     1.0   0.286325\n",
      "5                    Pneumonia  0.034188  0.066116     1.0   0.034188\n",
      "6                 Cardiomegaly  0.290598  0.450331     1.0   0.290598\n",
      "7                  Lung Lesion  0.004274  0.008511     1.0   0.004274\n",
      "8                     Fracture  0.000000  0.000000     0.0   0.000000\n",
      "9                 Lung Opacity  0.538462  0.700000     1.0   0.538462\n",
      "10  Enlarged Cardiomediastinum  0.465812  0.635569     1.0   0.465812\n"
     ]
    }
   ],
   "source": [
    "# Convert the dictionary to a DataFrame\n",
    "metrics_table = pd.DataFrame(metrics)\n",
    "\n",
    "print(metrics_table)"
   ]
  },
  {
   "cell_type": "markdown",
   "id": "d0d8beb0",
   "metadata": {
    "papermill": {
     "duration": 0.01868,
     "end_time": "2024-02-27T06:04:01.246743",
     "exception": false,
     "start_time": "2024-02-27T06:04:01.228063",
     "status": "completed"
    },
    "tags": []
   },
   "source": [
    "# Looping to find the Best Threshold for each label "
   ]
  },
  {
   "cell_type": "markdown",
   "id": "67acff3a",
   "metadata": {
    "papermill": {
     "duration": 0.018492,
     "end_time": "2024-02-27T06:04:01.284038",
     "exception": false,
     "start_time": "2024-02-27T06:04:01.265546",
     "status": "completed"
    },
    "tags": []
   },
   "source": [
    "# Using F1-score"
   ]
  },
  {
   "cell_type": "code",
   "execution_count": 30,
   "id": "9d5ad8f7",
   "metadata": {
    "execution": {
     "iopub.execute_input": "2024-02-27T06:04:01.323166Z",
     "iopub.status.busy": "2024-02-27T06:04:01.322754Z",
     "iopub.status.idle": "2024-02-27T06:04:02.258399Z",
     "shell.execute_reply": "2024-02-27T06:04:02.257072Z"
    },
    "papermill": {
     "duration": 0.958467,
     "end_time": "2024-02-27T06:04:02.261285",
     "exception": false,
     "start_time": "2024-02-27T06:04:01.302818",
     "status": "completed"
    },
    "tags": []
   },
   "outputs": [],
   "source": [
    "thresholds = np.arange(0.3, 1, 0.02)\n",
    "\n",
    "results = pd.DataFrame(columns=['Label', 'Best Threshold', 'Best F1 Score'])\n",
    "\n",
    "for label in predict.columns:\n",
    "    # Initialize variables to store the best threshold and F1 score\n",
    "    best_threshold = 0\n",
    "    best_f1_score = 0\n",
    "    \n",
    "    # Iterate through a range of thresholds from 0 to 1 in steps of 0.01\n",
    "    for threshold in thresholds:\n",
    "        # Convert probabilities to binary predictions using the threshold\n",
    "        y_pred = (predict[label] >= threshold).astype(int)\n",
    "        \n",
    "        # Calculate the F1 score for the current threshold\n",
    "        f1 = f1_score(test[label], y_pred)\n",
    "        \n",
    "        # Update the best threshold and F1 score if the current F1 score is higher\n",
    "        if f1 > best_f1_score:\n",
    "            best_f1_score = f1\n",
    "            best_threshold = threshold\n",
    "    \n",
    "    # Append the results to the DataFrame\n",
    "    results.loc[len(results)] = [label, best_threshold, best_f1_score]\n",
    "    "
   ]
  },
  {
   "cell_type": "code",
   "execution_count": 31,
   "id": "5d9f6cbb",
   "metadata": {
    "execution": {
     "iopub.execute_input": "2024-02-27T06:04:02.301535Z",
     "iopub.status.busy": "2024-02-27T06:04:02.300803Z",
     "iopub.status.idle": "2024-02-27T06:04:02.309332Z",
     "shell.execute_reply": "2024-02-27T06:04:02.308071Z"
    },
    "papermill": {
     "duration": 0.031912,
     "end_time": "2024-02-27T06:04:02.312238",
     "exception": false,
     "start_time": "2024-02-27T06:04:02.280326",
     "status": "completed"
    },
    "tags": []
   },
   "outputs": [
    {
     "name": "stdout",
     "output_type": "stream",
     "text": [
      "                         Label  Best Threshold  Best F1 Score\n",
      "0                  Atelectasis            0.84       0.514851\n",
      "1                Consolidation            0.86       0.251256\n",
      "2                 Pneumothorax            0.30       0.066116\n",
      "3                        Edema            0.30       0.322581\n",
      "4                     Effusion            0.90       0.465455\n",
      "5                    Pneumonia            0.74       0.200000\n",
      "6                 Cardiomegaly            0.82       0.459854\n",
      "7                  Lung Lesion            0.74       0.009615\n",
      "8                     Fracture            0.00       0.000000\n",
      "9                 Lung Opacity            0.90       0.708215\n",
      "10  Enlarged Cardiomediastinum            0.30       0.635569\n"
     ]
    }
   ],
   "source": [
    "print(results)"
   ]
  },
  {
   "cell_type": "markdown",
   "id": "19364a80",
   "metadata": {
    "papermill": {
     "duration": 0.018405,
     "end_time": "2024-02-27T06:04:02.349911",
     "exception": false,
     "start_time": "2024-02-27T06:04:02.331506",
     "status": "completed"
    },
    "tags": []
   },
   "source": [
    "# Using Precision"
   ]
  },
  {
   "cell_type": "code",
   "execution_count": 32,
   "id": "60ff90a1",
   "metadata": {
    "execution": {
     "iopub.execute_input": "2024-02-27T06:04:02.390051Z",
     "iopub.status.busy": "2024-02-27T06:04:02.389225Z",
     "iopub.status.idle": "2024-02-27T06:04:03.325603Z",
     "shell.execute_reply": "2024-02-27T06:04:03.324482Z"
    },
    "papermill": {
     "duration": 0.959378,
     "end_time": "2024-02-27T06:04:03.328018",
     "exception": false,
     "start_time": "2024-02-27T06:04:02.368640",
     "status": "completed"
    },
    "tags": []
   },
   "outputs": [],
   "source": [
    "thresholds = np.arange(0.3, 1, 0.02)\n",
    "\n",
    "results_2 = pd.DataFrame(columns=['Label', 'Best Threshold_2', 'Best Precision'])\n",
    "\n",
    "for label in predict.columns:\n",
    "    # Initialize variables to store the best threshold and F1 score\n",
    "    best_threshold_2 = 0\n",
    "    best_precision = 0\n",
    "    \n",
    "    # Iterate through a range of thresholds from 0 to 1 in steps of 0.01\n",
    "    for threshold in thresholds:\n",
    "        # Convert probabilities to binary predictions using the threshold\n",
    "        y_pred = (predict[label] >= threshold).astype(int)\n",
    "        \n",
    "        # Calculate the F1 score for the current threshold\n",
    "        p = precision_score(test[label], y_pred)\n",
    "        \n",
    "        # Update the best threshold and F1 score if the current F1 score is higher\n",
    "        if p > best_precision:\n",
    "            best_precision = p\n",
    "            best_threshold_2 = threshold\n",
    "    \n",
    "    # Append the results to the DataFrame\n",
    "    results_2.loc[len(results_2)] = [label, best_threshold_2, best_precision]"
   ]
  },
  {
   "cell_type": "code",
   "execution_count": 33,
   "id": "8a644545",
   "metadata": {
    "execution": {
     "iopub.execute_input": "2024-02-27T06:04:03.367271Z",
     "iopub.status.busy": "2024-02-27T06:04:03.366851Z",
     "iopub.status.idle": "2024-02-27T06:04:03.374482Z",
     "shell.execute_reply": "2024-02-27T06:04:03.373688Z"
    },
    "papermill": {
     "duration": 0.029767,
     "end_time": "2024-02-27T06:04:03.376638",
     "exception": false,
     "start_time": "2024-02-27T06:04:03.346871",
     "status": "completed"
    },
    "tags": []
   },
   "outputs": [
    {
     "name": "stdout",
     "output_type": "stream",
     "text": [
      "                         Label  Best Threshold_2  Best Precision\n",
      "0                  Atelectasis              0.90        0.500000\n",
      "1                Consolidation              0.94        0.666667\n",
      "2                 Pneumothorax              0.30        0.034188\n",
      "3                        Edema              0.30        0.192308\n",
      "4                     Effusion              0.98        0.500000\n",
      "5                    Pneumonia              0.74        0.500000\n",
      "6                 Cardiomegaly              0.88        0.333333\n",
      "7                  Lung Lesion              0.74        0.004831\n",
      "8                     Fracture              0.00        0.000000\n",
      "9                 Lung Opacity              0.90        0.550661\n",
      "10  Enlarged Cardiomediastinum              0.76        0.467532\n"
     ]
    }
   ],
   "source": [
    "print(results_2)"
   ]
  },
  {
   "cell_type": "markdown",
   "id": "c23287c4",
   "metadata": {
    "papermill": {
     "duration": 0.019696,
     "end_time": "2024-02-27T06:04:03.415754",
     "exception": false,
     "start_time": "2024-02-27T06:04:03.396058",
     "status": "completed"
    },
    "tags": []
   },
   "source": [
    "# Using Accuracy"
   ]
  },
  {
   "cell_type": "code",
   "execution_count": 34,
   "id": "e95a1430",
   "metadata": {
    "execution": {
     "iopub.execute_input": "2024-02-27T06:04:03.456588Z",
     "iopub.status.busy": "2024-02-27T06:04:03.455896Z",
     "iopub.status.idle": "2024-02-27T06:04:03.875905Z",
     "shell.execute_reply": "2024-02-27T06:04:03.874853Z"
    },
    "papermill": {
     "duration": 0.443703,
     "end_time": "2024-02-27T06:04:03.878607",
     "exception": false,
     "start_time": "2024-02-27T06:04:03.434904",
     "status": "completed"
    },
    "tags": []
   },
   "outputs": [],
   "source": [
    "thresholds = np.arange(0.3, 1, 0.02)\n",
    "\n",
    "results_3 = pd.DataFrame(columns=['Label', 'Best Threshold', 'Best Accuracy'])\n",
    "\n",
    "for label in predict.columns:\n",
    "    # Initialize variables to store the best threshold and F1 score\n",
    "    best_threshold = 0\n",
    "    best_accuracy = 0\n",
    "    \n",
    "    # Iterate through a range of thresholds from 0 to 1 in steps of 0.01\n",
    "    for threshold in thresholds:\n",
    "        # Convert probabilities to binary predictions using the threshold\n",
    "        y_pred = (predict[label] >= threshold).astype(int)\n",
    "        \n",
    "        # Calculate the F1 score for the current threshold\n",
    "        acc = accuracy_score(test[label], y_pred)\n",
    "        \n",
    "        # Update the best threshold and F1 score if the current F1 score is higher\n",
    "        if acc > best_accuracy:\n",
    "            best_accuracy = acc\n",
    "            best_threshold = threshold\n",
    "    \n",
    "    # Append the results to the DataFrame\n",
    "    results_3.loc[len(results_3)] = [label, best_threshold, best_accuracy]"
   ]
  },
  {
   "cell_type": "code",
   "execution_count": 35,
   "id": "bc1500a7",
   "metadata": {
    "execution": {
     "iopub.execute_input": "2024-02-27T06:04:03.917869Z",
     "iopub.status.busy": "2024-02-27T06:04:03.917455Z",
     "iopub.status.idle": "2024-02-27T06:04:03.926555Z",
     "shell.execute_reply": "2024-02-27T06:04:03.925328Z"
    },
    "papermill": {
     "duration": 0.031392,
     "end_time": "2024-02-27T06:04:03.928786",
     "exception": false,
     "start_time": "2024-02-27T06:04:03.897394",
     "status": "completed"
    },
    "tags": []
   },
   "outputs": [
    {
     "name": "stdout",
     "output_type": "stream",
     "text": [
      "                         Label  Best Threshold  Best Accuracy\n",
      "0                  Atelectasis            0.90       0.658120\n",
      "1                Consolidation            0.94       0.863248\n",
      "2                 Pneumothorax            0.58       0.965812\n",
      "3                        Edema            0.90       0.807692\n",
      "4                     Effusion            0.98       0.713675\n",
      "5                    Pneumonia            0.74       0.965812\n",
      "6                 Cardiomegaly            0.92       0.709402\n",
      "7                  Lung Lesion            0.86       0.995726\n",
      "8                     Fracture            0.72       1.000000\n",
      "9                 Lung Opacity            0.90       0.559829\n",
      "10  Enlarged Cardiomediastinum            0.84       0.534188\n"
     ]
    }
   ],
   "source": [
    "print(results_3)"
   ]
  }
 ],
 "metadata": {
  "kaggle": {
   "accelerator": "none",
   "dataSources": [
    {
     "datasetId": 1302315,
     "sourceId": 2169393,
     "sourceType": "datasetVersion"
    }
   ],
   "dockerImageVersionId": 30646,
   "isGpuEnabled": false,
   "isInternetEnabled": true,
   "language": "python",
   "sourceType": "notebook"
  },
  "kernelspec": {
   "display_name": "Python 3",
   "language": "python",
   "name": "python3"
  },
  "language_info": {
   "codemirror_mode": {
    "name": "ipython",
    "version": 3
   },
   "file_extension": ".py",
   "mimetype": "text/x-python",
   "name": "python",
   "nbconvert_exporter": "python",
   "pygments_lexer": "ipython3",
   "version": "3.10.13"
  },
  "papermill": {
   "default_parameters": {},
   "duration": 79.924965,
   "end_time": "2024-02-27T06:04:05.472387",
   "environment_variables": {},
   "exception": null,
   "input_path": "__notebook__.ipynb",
   "output_path": "__notebook__.ipynb",
   "parameters": {},
   "start_time": "2024-02-27T06:02:45.547422",
   "version": "2.5.0"
  }
 },
 "nbformat": 4,
 "nbformat_minor": 5
}
